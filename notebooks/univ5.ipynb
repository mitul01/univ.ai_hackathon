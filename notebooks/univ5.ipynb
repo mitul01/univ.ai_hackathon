{
  "nbformat": 4,
  "nbformat_minor": 0,
  "metadata": {
    "colab": {
      "name": "Univ4.ipynb",
      "provenance": [],
      "toc_visible": true
    },
    "kernelspec": {
      "name": "python3",
      "display_name": "Python 3"
    },
    "language_info": {
      "name": "python"
    }
  },
  "cells": [
    {
      "cell_type": "markdown",
      "metadata": {
        "id": "PlliBxb0jVTN"
      },
      "source": [
        "\n",
        "1.   Metric To use :- roc auc score \n",
        "2.   Basic model :- KNN\n",
        "3.   Hyperparameters to tune :- Neigbhours , oversampling ratio \n",
        "\n"
      ]
    },
    {
      "cell_type": "markdown",
      "metadata": {
        "id": "J88s1q6-mWIY"
      },
      "source": [
        "## Helper functions"
      ]
    },
    {
      "cell_type": "code",
      "metadata": {
        "id": "S-zEackKnZDN"
      },
      "source": [
        "from sklearn.model_selection import learning_curve\n",
        "from sklearn.model_selection import validation_curve\n",
        "from sklearn.model_selection import cross_val_score\n",
        "import numpy as np\n",
        "import pandas as pd\n",
        "import matplotlib.pyplot as plt\n",
        "import seaborn as sns"
      ],
      "execution_count": 1,
      "outputs": []
    },
    {
      "cell_type": "code",
      "metadata": {
        "id": "MFb4kwnamRAL"
      },
      "source": [
        "# Plot learning curve\n",
        "def plot_learning_curve(estimator, title, X, y, ylim=None, cv=None,\n",
        "                        n_jobs=1, train_sizes=np.linspace(.1, 1.0, 5)):\n",
        "    plt.figure()\n",
        "    plt.title(title)\n",
        "    if ylim is not None:\n",
        "        plt.ylim(*ylim)\n",
        "    plt.xlabel(\"Training examples\")\n",
        "    plt.ylabel(\"Score\")\n",
        "    train_sizes, train_scores, test_scores = learning_curve(estimator, X, y, cv=cv, n_jobs=n_jobs, \n",
        "                                                          train_sizes=train_sizes,scoring=\"roc_auc\")\n",
        "    train_scores_mean = np.mean(train_scores, axis=1)\n",
        "    train_scores_std = np.std(train_scores, axis=1)\n",
        "    test_scores_mean = np.mean(test_scores, axis=1)\n",
        "    test_scores_std = np.std(test_scores, axis=1)\n",
        "    plt.grid()\n",
        "\n",
        "    plt.fill_between(train_sizes, train_scores_mean - train_scores_std,\n",
        "                     train_scores_mean + train_scores_std, alpha=0.1,\n",
        "                     color=\"r\")\n",
        "    plt.fill_between(train_sizes, test_scores_mean - test_scores_std,\n",
        "                     test_scores_mean + test_scores_std, alpha=0.1, color=\"g\")\n",
        "    plt.plot(train_sizes, train_scores_mean, 'o-', color=\"r\",\n",
        "             label=\"Training score\")\n",
        "    plt.plot(train_sizes, test_scores_mean, 'o-', color=\"g\",\n",
        "             label=\"Validation score\")\n",
        "\n",
        "    plt.legend(loc=\"best\")\n",
        "    return plt\n",
        "# Plot validation curve\n",
        "def plot_validation_curve(estimator, title, X, y, param_name, param_range, ylim=None, cv=None,\n",
        "                        n_jobs=1, train_sizes=np.linspace(.1, 1.0, 5)):\n",
        "    train_scores, test_scores = validation_curve(estimator, X, y, param_name, param_range, cv,scoring=\"roc_auc\")\n",
        "    train_mean = np.mean(train_scores, axis=1)\n",
        "    train_std = np.std(train_scores, axis=1)\n",
        "    test_mean = np.mean(test_scores, axis=1)\n",
        "    test_std = np.std(test_scores, axis=1)\n",
        "    plt.plot(param_range, train_mean, color='r', marker='o', markersize=5, label='Training score')\n",
        "    plt.fill_between(param_range, train_mean + train_std, train_mean - train_std, alpha=0.15, color='r')\n",
        "    plt.plot(param_range, test_mean, color='g', linestyle='--', marker='s', markersize=5, label='Validation score')\n",
        "    plt.fill_between(param_range, test_mean + test_std, test_mean - test_std, alpha=0.15, color='g')\n",
        "    plt.grid() \n",
        "    plt.xscale('log')\n",
        "    plt.legend(loc='best') \n",
        "    plt.xlabel('Parameter') \n",
        "    plt.ylabel('Score') \n",
        "    plt.ylim(ylim)"
      ],
      "execution_count": 2,
      "outputs": []
    },
    {
      "cell_type": "code",
      "metadata": {
        "id": "4bJ6NHa1D5VE"
      },
      "source": [
        "def agg_groupby(df,primary_key,operations,agg_cols):\n",
        "  return df.groupby(primary_key).agg(operations).reset_index().rename(columns=agg_cols)\n",
        "\n",
        "def left_join(df1,df2,primary_key):\n",
        "  return df1.merge(df2,how='left',on=primary_key)\n",
        "\n",
        "def aggregation(df,primary_key,operation,cols):\n",
        "  for c in cols:\n",
        "    df=left_join(df,\n",
        "                 agg_groupby(df,\n",
        "                             [primary_key],\n",
        "                             {c:operation},\n",
        "                             {c:primary_key+\"_\"+operation+\"_\"+c}),\n",
        "                 primary_key)\n",
        "  return df\n",
        "\n",
        "def remove_uniqueVal_cols(df):\n",
        "  counts=df.nunique()\n",
        "  to_del = [i for i,v in enumerate(counts) if v == 1]\n",
        "  col_names_del=df.nunique().index[to_del]\n",
        "  df.drop(col_names_del,axis=1,inplace=True)\n",
        "  return df"
      ],
      "execution_count": 3,
      "outputs": []
    },
    {
      "cell_type": "markdown",
      "metadata": {
        "id": "Oy2srh2xjRMj"
      },
      "source": [
        "# Lean Model "
      ]
    },
    {
      "cell_type": "code",
      "metadata": {
        "id": "Tr8FT5WO_m3-"
      },
      "source": [
        "import pandas as pd\n",
        "import numpy as np\n",
        "import matplotlib.pyplot as plt\n",
        "import numpy as np\n",
        "import seaborn as sns"
      ],
      "execution_count": null,
      "outputs": []
    },
    {
      "cell_type": "code",
      "metadata": {
        "id": "paEs_6NdAOd6"
      },
      "source": [
        "train=pd.read_csv(\"/content/drive/MyDrive/univ.ai/univ_data/Training Data.csv\")"
      ],
      "execution_count": null,
      "outputs": []
    },
    {
      "cell_type": "code",
      "metadata": {
        "colab": {
          "base_uri": "https://localhost:8080/",
          "height": 214
        },
        "id": "Cib6wABYATg5",
        "outputId": "bd7443ab-8e10-4615-c8bd-f61f0a68ab11"
      },
      "source": [
        "train.head()"
      ],
      "execution_count": null,
      "outputs": [
        {
          "output_type": "execute_result",
          "data": {
            "text/html": [
              "<div>\n",
              "<style scoped>\n",
              "    .dataframe tbody tr th:only-of-type {\n",
              "        vertical-align: middle;\n",
              "    }\n",
              "\n",
              "    .dataframe tbody tr th {\n",
              "        vertical-align: top;\n",
              "    }\n",
              "\n",
              "    .dataframe thead th {\n",
              "        text-align: right;\n",
              "    }\n",
              "</style>\n",
              "<table border=\"1\" class=\"dataframe\">\n",
              "  <thead>\n",
              "    <tr style=\"text-align: right;\">\n",
              "      <th></th>\n",
              "      <th>Id</th>\n",
              "      <th>income</th>\n",
              "      <th>age</th>\n",
              "      <th>experience</th>\n",
              "      <th>married</th>\n",
              "      <th>house_ownership</th>\n",
              "      <th>car_ownership</th>\n",
              "      <th>profession</th>\n",
              "      <th>city</th>\n",
              "      <th>state</th>\n",
              "      <th>current_job_years</th>\n",
              "      <th>current_house_years</th>\n",
              "      <th>risk_flag</th>\n",
              "    </tr>\n",
              "  </thead>\n",
              "  <tbody>\n",
              "    <tr>\n",
              "      <th>0</th>\n",
              "      <td>1</td>\n",
              "      <td>1303835</td>\n",
              "      <td>23</td>\n",
              "      <td>3</td>\n",
              "      <td>single</td>\n",
              "      <td>rented</td>\n",
              "      <td>no</td>\n",
              "      <td>Mechanical_engineer</td>\n",
              "      <td>Rewa</td>\n",
              "      <td>Madhya_Pradesh</td>\n",
              "      <td>3</td>\n",
              "      <td>13</td>\n",
              "      <td>0</td>\n",
              "    </tr>\n",
              "    <tr>\n",
              "      <th>1</th>\n",
              "      <td>2</td>\n",
              "      <td>7574516</td>\n",
              "      <td>40</td>\n",
              "      <td>10</td>\n",
              "      <td>single</td>\n",
              "      <td>rented</td>\n",
              "      <td>no</td>\n",
              "      <td>Software_Developer</td>\n",
              "      <td>Parbhani</td>\n",
              "      <td>Maharashtra</td>\n",
              "      <td>9</td>\n",
              "      <td>13</td>\n",
              "      <td>0</td>\n",
              "    </tr>\n",
              "    <tr>\n",
              "      <th>2</th>\n",
              "      <td>3</td>\n",
              "      <td>3991815</td>\n",
              "      <td>66</td>\n",
              "      <td>4</td>\n",
              "      <td>married</td>\n",
              "      <td>rented</td>\n",
              "      <td>no</td>\n",
              "      <td>Technical_writer</td>\n",
              "      <td>Alappuzha</td>\n",
              "      <td>Kerala</td>\n",
              "      <td>4</td>\n",
              "      <td>10</td>\n",
              "      <td>0</td>\n",
              "    </tr>\n",
              "    <tr>\n",
              "      <th>3</th>\n",
              "      <td>4</td>\n",
              "      <td>6256451</td>\n",
              "      <td>41</td>\n",
              "      <td>2</td>\n",
              "      <td>single</td>\n",
              "      <td>rented</td>\n",
              "      <td>yes</td>\n",
              "      <td>Software_Developer</td>\n",
              "      <td>Bhubaneswar</td>\n",
              "      <td>Odisha</td>\n",
              "      <td>2</td>\n",
              "      <td>12</td>\n",
              "      <td>1</td>\n",
              "    </tr>\n",
              "    <tr>\n",
              "      <th>4</th>\n",
              "      <td>5</td>\n",
              "      <td>5768871</td>\n",
              "      <td>47</td>\n",
              "      <td>11</td>\n",
              "      <td>single</td>\n",
              "      <td>rented</td>\n",
              "      <td>no</td>\n",
              "      <td>Civil_servant</td>\n",
              "      <td>Tiruchirappalli[10]</td>\n",
              "      <td>Tamil_Nadu</td>\n",
              "      <td>3</td>\n",
              "      <td>14</td>\n",
              "      <td>1</td>\n",
              "    </tr>\n",
              "  </tbody>\n",
              "</table>\n",
              "</div>"
            ],
            "text/plain": [
              "   Id   income  age  ...  current_job_years current_house_years risk_flag\n",
              "0   1  1303835   23  ...                  3                  13         0\n",
              "1   2  7574516   40  ...                  9                  13         0\n",
              "2   3  3991815   66  ...                  4                  10         0\n",
              "3   4  6256451   41  ...                  2                  12         1\n",
              "4   5  5768871   47  ...                  3                  14         1\n",
              "\n",
              "[5 rows x 13 columns]"
            ]
          },
          "metadata": {
            "tags": []
          },
          "execution_count": 53
        }
      ]
    },
    {
      "cell_type": "code",
      "metadata": {
        "id": "ZkoYhe1bmvMB"
      },
      "source": [
        "train=pd.get_dummies(data=train,columns=[\"house_ownership\",\"married\",\"car_ownership\"],drop_first=True)\n",
        "train.drop([\"Id\",\"profession\",\"city\",\"state\"],axis=1,inplace=True)"
      ],
      "execution_count": null,
      "outputs": []
    },
    {
      "cell_type": "code",
      "metadata": {
        "colab": {
          "base_uri": "https://localhost:8080/",
          "height": 194
        },
        "id": "Q_W0WENMm3GL",
        "outputId": "b4ad2c24-eacf-4038-d250-0153b65a1f1d"
      },
      "source": [
        "train.head()"
      ],
      "execution_count": null,
      "outputs": [
        {
          "output_type": "execute_result",
          "data": {
            "text/html": [
              "<div>\n",
              "<style scoped>\n",
              "    .dataframe tbody tr th:only-of-type {\n",
              "        vertical-align: middle;\n",
              "    }\n",
              "\n",
              "    .dataframe tbody tr th {\n",
              "        vertical-align: top;\n",
              "    }\n",
              "\n",
              "    .dataframe thead th {\n",
              "        text-align: right;\n",
              "    }\n",
              "</style>\n",
              "<table border=\"1\" class=\"dataframe\">\n",
              "  <thead>\n",
              "    <tr style=\"text-align: right;\">\n",
              "      <th></th>\n",
              "      <th>income</th>\n",
              "      <th>age</th>\n",
              "      <th>experience</th>\n",
              "      <th>current_job_years</th>\n",
              "      <th>current_house_years</th>\n",
              "      <th>risk_flag</th>\n",
              "      <th>house_ownership_owned</th>\n",
              "      <th>house_ownership_rented</th>\n",
              "      <th>married_single</th>\n",
              "      <th>car_ownership_yes</th>\n",
              "    </tr>\n",
              "  </thead>\n",
              "  <tbody>\n",
              "    <tr>\n",
              "      <th>0</th>\n",
              "      <td>1303835</td>\n",
              "      <td>23</td>\n",
              "      <td>3</td>\n",
              "      <td>3</td>\n",
              "      <td>13</td>\n",
              "      <td>0</td>\n",
              "      <td>0</td>\n",
              "      <td>1</td>\n",
              "      <td>1</td>\n",
              "      <td>0</td>\n",
              "    </tr>\n",
              "    <tr>\n",
              "      <th>1</th>\n",
              "      <td>7574516</td>\n",
              "      <td>40</td>\n",
              "      <td>10</td>\n",
              "      <td>9</td>\n",
              "      <td>13</td>\n",
              "      <td>0</td>\n",
              "      <td>0</td>\n",
              "      <td>1</td>\n",
              "      <td>1</td>\n",
              "      <td>0</td>\n",
              "    </tr>\n",
              "    <tr>\n",
              "      <th>2</th>\n",
              "      <td>3991815</td>\n",
              "      <td>66</td>\n",
              "      <td>4</td>\n",
              "      <td>4</td>\n",
              "      <td>10</td>\n",
              "      <td>0</td>\n",
              "      <td>0</td>\n",
              "      <td>1</td>\n",
              "      <td>0</td>\n",
              "      <td>0</td>\n",
              "    </tr>\n",
              "    <tr>\n",
              "      <th>3</th>\n",
              "      <td>6256451</td>\n",
              "      <td>41</td>\n",
              "      <td>2</td>\n",
              "      <td>2</td>\n",
              "      <td>12</td>\n",
              "      <td>1</td>\n",
              "      <td>0</td>\n",
              "      <td>1</td>\n",
              "      <td>1</td>\n",
              "      <td>1</td>\n",
              "    </tr>\n",
              "    <tr>\n",
              "      <th>4</th>\n",
              "      <td>5768871</td>\n",
              "      <td>47</td>\n",
              "      <td>11</td>\n",
              "      <td>3</td>\n",
              "      <td>14</td>\n",
              "      <td>1</td>\n",
              "      <td>0</td>\n",
              "      <td>1</td>\n",
              "      <td>1</td>\n",
              "      <td>0</td>\n",
              "    </tr>\n",
              "  </tbody>\n",
              "</table>\n",
              "</div>"
            ],
            "text/plain": [
              "    income  age  ...  married_single  car_ownership_yes\n",
              "0  1303835   23  ...               1                  0\n",
              "1  7574516   40  ...               1                  0\n",
              "2  3991815   66  ...               0                  0\n",
              "3  6256451   41  ...               1                  1\n",
              "4  5768871   47  ...               1                  0\n",
              "\n",
              "[5 rows x 10 columns]"
            ]
          },
          "metadata": {
            "tags": []
          },
          "execution_count": 61
        }
      ]
    },
    {
      "cell_type": "code",
      "metadata": {
        "id": "W3LpaXzvoBvD"
      },
      "source": [
        "X=train.drop(\"risk_flag\",axis=1)\n",
        "y=train[\"risk_flag\"]\n",
        "from sklearn.model_selection import train_test_split\n",
        "x_train,x_val,y_train,y_val=train_test_split(X,y,test_size=0.2,shuffle=True,random_state=0)"
      ],
      "execution_count": null,
      "outputs": []
    },
    {
      "cell_type": "code",
      "metadata": {
        "id": "k5uhiJO5m6-x"
      },
      "source": [
        "from sklearn.neighbors import KNeighborsClassifier\n",
        "from sklearn.metrics import roc_auc_score\n",
        "knn=KNeighborsClassifier(algorithm='auto', leaf_size=30, metric='euclidean',\n",
        "                     metric_params=None, n_jobs=-1, n_neighbors=7, p=2,\n",
        "                     weights='distance')"
      ],
      "execution_count": null,
      "outputs": []
    },
    {
      "cell_type": "code",
      "metadata": {
        "colab": {
          "base_uri": "https://localhost:8080/",
          "height": 313
        },
        "id": "oScAZunboZc1",
        "outputId": "c240cacf-9067-4363-952b-16265ea287fe"
      },
      "source": [
        "plot_learning_curve(knn,\"Learning Curves (KNN)\",X,y,ylim=(0.7, 1.01),cv=10)"
      ],
      "execution_count": null,
      "outputs": [
        {
          "output_type": "execute_result",
          "data": {
            "text/plain": [
              "<module 'matplotlib.pyplot' from '/usr/local/lib/python3.7/dist-packages/matplotlib/pyplot.py'>"
            ]
          },
          "metadata": {
            "tags": []
          },
          "execution_count": 109
        },
        {
          "output_type": "display_data",
          "data": {
            "image/png": "[encoded data removed]",
            "text/plain": [
              "<Figure size 432x288 with 1 Axes>"
            ]
          },
          "metadata": {
            "tags": []
          }
        }
      ]
    },
    {
      "cell_type": "markdown",
      "metadata": {
        "id": "irxgEbXm6lNT"
      },
      "source": [
        " Indicates overfitting of model "
      ]
    },
    {
      "cell_type": "code",
      "metadata": {
        "colab": {
          "base_uri": "https://localhost:8080/",
          "height": 283
        },
        "id": "qgKqPeKZrH0b",
        "outputId": "0a2dc01e-b634-474f-8053-0f2e39ba79fc"
      },
      "source": [
        "plot_validation_curve(knn,\"Validation Curve (KNN)\",X,y,param_name=\"n_neighbors\",param_range=[5,7,9,11,21],ylim=(0.5, 1.01))"
      ],
      "execution_count": null,
      "outputs": [
        {
          "output_type": "display_data",
          "data": {
            "image/png": "[encoded data removed]",
            "text/plain": [
              "<Figure size 432x288 with 1 Axes>"
            ]
          },
          "metadata": {
            "tags": []
          }
        }
      ]
    },
    {
      "cell_type": "markdown",
      "metadata": {
        "id": "lif1pdjO6zih"
      },
      "source": [
        "Constant across all the parameters , overfitting is also visible"
      ]
    },
    {
      "cell_type": "markdown",
      "metadata": {
        "id": "06GSKyWJ6RBJ"
      },
      "source": [
        "# **EDA**"
      ]
    },
    {
      "cell_type": "markdown",
      "metadata": {
        "id": "kL7rgylzkNRd"
      },
      "source": [
        "## Features \n",
        "\n",
        "1.   Id :- Unique identifier :- should not have any effect of risk flag \n",
        "2.   Income :- More the income better the chance of risk flag being 0 \n",
        "3.   Age :- Hard to draw any relations. But younger age means finacially unstable that might lead to more risky loans\n",
        "4.   experience :- More the experience better the chances of being financially well of thus less risky \n",
        "5.   married :- Married person usually is more finacially careful thus less risky\n",
        "6.   house_ownership :- less risky loan if owns house \n",
        "7.   car_ownership :- maybe less risky but should not effect that much\n",
        "8.   profession :- Better earning profession are less risker to give loans.\n",
        "9.   city:- Should not effect unless some hidden feature\n",
        "10.  state:- Should not effect unless some hidden feature\n",
        "11.  current_job_years :- same as experience \n",
        "12.  current house_years :- more house years mean more financially stables but not necessarily - may or may not effect risk of loan\n",
        "\n"
      ]
    },
    {
      "cell_type": "code",
      "metadata": {
        "id": "V2ox_FQa6-pf"
      },
      "source": [
        "train=pd.read_csv(\"/content/drive/MyDrive/univ.ai/univ_data/Training Data.csv\")"
      ],
      "execution_count": null,
      "outputs": []
    },
    {
      "cell_type": "code",
      "metadata": {
        "colab": {
          "base_uri": "https://localhost:8080/"
        },
        "id": "P4Vvd_Et7RWx",
        "outputId": "d78b3f24-6bb4-45f4-b2b0-f112531c9815"
      },
      "source": [
        "train.columns"
      ],
      "execution_count": null,
      "outputs": [
        {
          "output_type": "execute_result",
          "data": {
            "text/plain": [
              "Index(['Id', 'income', 'age', 'experience', 'married', 'house_ownership',\n",
              "       'car_ownership', 'profession', 'city', 'state', 'current_job_years',\n",
              "       'current_house_years', 'risk_flag'],\n",
              "      dtype='object')"
            ]
          },
          "metadata": {
            "tags": []
          },
          "execution_count": 116
        }
      ]
    },
    {
      "cell_type": "code",
      "metadata": {
        "id": "6cWSp6ttr59b"
      },
      "source": [
        "plt.figure(figsize=(7.5,5))\n",
        "sns.boxplot(data=train,x=\"income\",y=\"risk_flag\")"
      ],
      "execution_count": null,
      "outputs": []
    },
    {
      "cell_type": "code",
      "metadata": {
        "id": "Q8U6mr6F5NvH"
      },
      "source": [
        "plt.figure(figsize=(7.5,5))\n",
        "sns.boxplot(data=train,x=\"age\",y=\"risk_flag\")"
      ],
      "execution_count": null,
      "outputs": []
    },
    {
      "cell_type": "code",
      "metadata": {
        "colab": {
          "base_uri": "https://localhost:8080/",
          "height": 352
        },
        "id": "kAigd5245dBY",
        "outputId": "78e7066c-40b5-439b-c4c7-633802c92ad0"
      },
      "source": [
        "plt.figure(figsize=(7.5,5))\n",
        "sns.barplot(data=train,x=\"married\",y=\"risk_flag\")"
      ],
      "execution_count": null,
      "outputs": [
        {
          "output_type": "execute_result",
          "data": {
            "text/plain": [
              "<matplotlib.axes._subplots.AxesSubplot at 0x7f4baa4a5050>"
            ]
          },
          "metadata": {
            "tags": []
          },
          "execution_count": 113
        },
        {
          "output_type": "display_data",
          "data": {
            "image/png": "[encoded data removed]",
            "text/plain": [
              "<Figure size 540x360 with 1 Axes>"
            ]
          },
          "metadata": {
            "tags": []
          }
        }
      ]
    },
    {
      "cell_type": "code",
      "metadata": {
        "colab": {
          "base_uri": "https://localhost:8080/",
          "height": 353
        },
        "id": "VwmdGxe35WKk",
        "outputId": "7e638cd4-c0ee-4c2a-b091-60073cc4c2fd"
      },
      "source": [
        "plt.figure(figsize=(7.5,5))\n",
        "sns.barplot(data=train,x=\"house_ownership\",y=\"risk_flag\")"
      ],
      "execution_count": null,
      "outputs": [
        {
          "output_type": "execute_result",
          "data": {
            "text/plain": [
              "<matplotlib.axes._subplots.AxesSubplot at 0x7f4ba9f6ce90>"
            ]
          },
          "metadata": {
            "tags": []
          },
          "execution_count": 117
        },
        {
          "output_type": "display_data",
          "data": {
            "image/png": "[encoded data removed]",
            "text/plain": [
              "<Figure size 540x360 with 1 Axes>"
            ]
          },
          "metadata": {
            "tags": []
          }
        }
      ]
    },
    {
      "cell_type": "code",
      "metadata": {
        "colab": {
          "base_uri": "https://localhost:8080/",
          "height": 353
        },
        "id": "xMj7eMPrzd3Z",
        "outputId": "a61699b7-c998-4a82-de1c-bf2431aa8853"
      },
      "source": [
        "plt.figure(figsize=(7.5,5))\n",
        "sns.barplot(data=train,x=\"car_ownership\",y=\"risk_flag\")"
      ],
      "execution_count": null,
      "outputs": [
        {
          "output_type": "execute_result",
          "data": {
            "text/plain": [
              "<matplotlib.axes._subplots.AxesSubplot at 0x7f4ba9f41a50>"
            ]
          },
          "metadata": {
            "tags": []
          },
          "execution_count": 118
        },
        {
          "output_type": "display_data",
          "data": {
            "image/png": "[encoded data removed]",
            "text/plain": [
              "<Figure size 540x360 with 1 Axes>"
            ]
          },
          "metadata": {
            "tags": []
          }
        }
      ]
    },
    {
      "cell_type": "code",
      "metadata": {
        "colab": {
          "base_uri": "https://localhost:8080/"
        },
        "id": "pEVlT-rj6API",
        "outputId": "5f7fab2a-a03b-4c57-f152-996cb9f2db2c"
      },
      "source": [
        "plt.figure(figsize=(7.5,5))\n",
        "sns.swarmplot(data=train,x=\"current_job_years\",y=\"risk_flag\")"
      ],
      "execution_count": null,
      "outputs": [
        {
          "output_type": "display_data",
          "data": {
            "image/png": "[encoded data removed]",
            "text/plain": [
              "<Figure size 540x360 with 1 Axes>"
            ]
          },
          "metadata": {
            "tags": []
          }
        }
      ]
    },
    {
      "cell_type": "code",
      "metadata": {
        "colab": {
          "base_uri": "https://localhost:8080/",
          "height": 353
        },
        "id": "VemiN5QJzD2H",
        "outputId": "1fa29db5-0811-4798-e2f3-8935c11934fe"
      },
      "source": [
        "plt.figure(figsize=(7.5,5))\n",
        "sns.boxplot(data=train,x=\"current_house_years\",y=\"risk_flag\")"
      ],
      "execution_count": null,
      "outputs": [
        {
          "output_type": "execute_result",
          "data": {
            "text/plain": [
              "<matplotlib.axes._subplots.AxesSubplot at 0x7f4bb151cdd0>"
            ]
          },
          "metadata": {
            "tags": []
          },
          "execution_count": 88
        },
        {
          "output_type": "display_data",
          "data": {
            "image/png": "[encoded data removed]",
            "text/plain": [
              "<Figure size 540x360 with 1 Axes>"
            ]
          },
          "metadata": {
            "tags": []
          }
        }
      ]
    },
    {
      "cell_type": "markdown",
      "metadata": {
        "id": "6NiEPnQE7orO"
      },
      "source": [
        "# Feature Enginnering "
      ]
    },
    {
      "cell_type": "code",
      "metadata": {
        "id": "fuIhzvbLEt7z"
      },
      "source": [
        "test=pd.read_csv(\"/content/drive/MyDrive/univ.ai/univ_data/Test Data.csv\")\n",
        "train=pd.read_csv(\"/content/drive/MyDrive/univ.ai/univ_data/Training Data.csv\")\n",
        "test.rename(columns={\"id\":\"Id\"},inplace=True)"
      ],
      "execution_count": 4,
      "outputs": []
    },
    {
      "cell_type": "code",
      "metadata": {
        "id": "Iq6kwK0GQjvd"
      },
      "source": [
        "train_no_target=train.drop(\"risk_flag\",axis=1)\n",
        "y=train[\"risk_flag\"]"
      ],
      "execution_count": 5,
      "outputs": []
    },
    {
      "cell_type": "markdown",
      "metadata": {
        "id": "_FyZNcFW8Elo"
      },
      "source": [
        "### MCA and PCA "
      ]
    },
    {
      "cell_type": "code",
      "metadata": {
        "id": "hsXBCm8aKcKt"
      },
      "source": [
        "categorical_cols= ['car_ownership', 'profession', 'city','state','house_ownership','married','car_ownership']\n",
        "numerical_cols =  ['income', 'age', 'experience', 'current_job_years','current_house_years']"
      ],
      "execution_count": 6,
      "outputs": []
    },
    {
      "cell_type": "code",
      "metadata": {
        "id": "PLZTqUkqruAF"
      },
      "source": [
        "from sklearn.decomposition import PCA\n",
        "pca_matrix=pd.concat([train_no_target,test],axis=0)\n",
        "pca= PCA(n_components=2,random_state=202020).fit(pca_matrix[numerical_cols])\n",
        "train_no_target.loc[:,'PCA1']= pca.transform(train_no_target[numerical_cols])[:,0]\n",
        "test.loc[:,'PCA1']= pca.transform(test[numerical_cols])[:,0]\n",
        "\n",
        "train_no_target.loc[:,'PCA2']= pca.transform(train_no_target[numerical_cols])[:,1]\n",
        "test.loc[:,'PCA2']= pca.transform(test[numerical_cols])[:,1]"
      ],
      "execution_count": 7,
      "outputs": []
    },
    {
      "cell_type": "code",
      "metadata": {
        "id": "_KBNQeu4UwzE"
      },
      "source": [
        "loans=pd.concat([train_no_target,test],axis=0)"
      ],
      "execution_count": 8,
      "outputs": []
    },
    {
      "cell_type": "code",
      "metadata": {
        "colab": {
          "base_uri": "https://localhost:8080/"
        },
        "id": "qCTFxE1VVstx",
        "outputId": "f3cfa400-f11d-4af1-aa4f-bcebf7e53bfc"
      },
      "source": [
        "!pip install prince"
      ],
      "execution_count": 9,
      "outputs": [
        {
          "output_type": "stream",
          "text": [
            "Collecting prince\n",
            "  Downloading https://files.pythonhosted.org/packages/94/6c/491a3fabfd1ce75e285a4fe4200fccde5d83664733541a3a74c0b02e77fb/prince-0.7.1-py3-none-any.whl\n",
            "Requirement already satisfied: pandas>=1.0.3 in /usr/local/lib/python3.7/dist-packages (from prince) (1.1.5)\n",
            "Requirement already satisfied: numpy>=1.17.1 in /usr/local/lib/python3.7/dist-packages (from prince) (1.19.5)\n",
            "Requirement already satisfied: scikit-learn>=0.22.1 in /usr/local/lib/python3.7/dist-packages (from prince) (0.22.2.post1)\n",
            "Requirement already satisfied: scipy>=1.3.0 in /usr/local/lib/python3.7/dist-packages (from prince) (1.4.1)\n",
            "Requirement already satisfied: matplotlib>=3.0.2 in /usr/local/lib/python3.7/dist-packages (from prince) (3.2.2)\n",
            "Requirement already satisfied: pytz>=2017.2 in /usr/local/lib/python3.7/dist-packages (from pandas>=1.0.3->prince) (2018.9)\n",
            "Requirement already satisfied: python-dateutil>=2.7.3 in /usr/local/lib/python3.7/dist-packages (from pandas>=1.0.3->prince) (2.8.1)\n",
            "Requirement already satisfied: joblib>=0.11 in /usr/local/lib/python3.7/dist-packages (from scikit-learn>=0.22.1->prince) (1.0.1)\n",
            "Requirement already satisfied: pyparsing!=2.0.4,!=2.1.2,!=2.1.6,>=2.0.1 in /usr/local/lib/python3.7/dist-packages (from matplotlib>=3.0.2->prince) (2.4.7)\n",
            "Requirement already satisfied: cycler>=0.10 in /usr/local/lib/python3.7/dist-packages (from matplotlib>=3.0.2->prince) (0.10.0)\n",
            "Requirement already satisfied: kiwisolver>=1.0.1 in /usr/local/lib/python3.7/dist-packages (from matplotlib>=3.0.2->prince) (1.3.1)\n",
            "Requirement already satisfied: six>=1.5 in /usr/local/lib/python3.7/dist-packages (from python-dateutil>=2.7.3->pandas>=1.0.3->prince) (1.15.0)\n",
            "Installing collected packages: prince\n",
            "Successfully installed prince-0.7.1\n"
          ],
          "name": "stdout"
        }
      ]
    },
    {
      "cell_type": "code",
      "metadata": {
        "id": "xbcwmq3-vR6A"
      },
      "source": [
        "import prince\n",
        "mca = prince.MCA(n_components=2,random_state=42)\n",
        "mca_features=mca.fit_transform(loans[categorical_cols])\n",
        "loans.loc[:,'MCA1']=mca_features[0]\n",
        "loans.loc[:,'MCA2']=mca_features[1]"
      ],
      "execution_count": 10,
      "outputs": []
    },
    {
      "cell_type": "code",
      "metadata": {
        "colab": {
          "base_uri": "https://localhost:8080/",
          "height": 214
        },
        "id": "1fDT8SS7Q6Yh",
        "outputId": "e1162118-5b15-46ec-b20c-28c553e1e232"
      },
      "source": [
        "loans.head()"
      ],
      "execution_count": 11,
      "outputs": [
        {
          "output_type": "execute_result",
          "data": {
            "text/html": [
              "<div>\n",
              "<style scoped>\n",
              "    .dataframe tbody tr th:only-of-type {\n",
              "        vertical-align: middle;\n",
              "    }\n",
              "\n",
              "    .dataframe tbody tr th {\n",
              "        vertical-align: top;\n",
              "    }\n",
              "\n",
              "    .dataframe thead th {\n",
              "        text-align: right;\n",
              "    }\n",
              "</style>\n",
              "<table border=\"1\" class=\"dataframe\">\n",
              "  <thead>\n",
              "    <tr style=\"text-align: right;\">\n",
              "      <th></th>\n",
              "      <th>Id</th>\n",
              "      <th>income</th>\n",
              "      <th>age</th>\n",
              "      <th>experience</th>\n",
              "      <th>married</th>\n",
              "      <th>house_ownership</th>\n",
              "      <th>car_ownership</th>\n",
              "      <th>profession</th>\n",
              "      <th>city</th>\n",
              "      <th>state</th>\n",
              "      <th>current_job_years</th>\n",
              "      <th>current_house_years</th>\n",
              "      <th>PCA1</th>\n",
              "      <th>PCA2</th>\n",
              "      <th>MCA1</th>\n",
              "      <th>MCA2</th>\n",
              "    </tr>\n",
              "  </thead>\n",
              "  <tbody>\n",
              "    <tr>\n",
              "      <th>0</th>\n",
              "      <td>1</td>\n",
              "      <td>1303835</td>\n",
              "      <td>23</td>\n",
              "      <td>3</td>\n",
              "      <td>single</td>\n",
              "      <td>rented</td>\n",
              "      <td>no</td>\n",
              "      <td>Mechanical_engineer</td>\n",
              "      <td>Rewa</td>\n",
              "      <td>Madhya_Pradesh</td>\n",
              "      <td>3</td>\n",
              "      <td>13</td>\n",
              "      <td>-3.696526e+06</td>\n",
              "      <td>-26.983843</td>\n",
              "      <td>0.481663</td>\n",
              "      <td>0.288990</td>\n",
              "    </tr>\n",
              "    <tr>\n",
              "      <th>1</th>\n",
              "      <td>2</td>\n",
              "      <td>7574516</td>\n",
              "      <td>40</td>\n",
              "      <td>10</td>\n",
              "      <td>single</td>\n",
              "      <td>rented</td>\n",
              "      <td>no</td>\n",
              "      <td>Software_Developer</td>\n",
              "      <td>Parbhani</td>\n",
              "      <td>Maharashtra</td>\n",
              "      <td>9</td>\n",
              "      <td>13</td>\n",
              "      <td>2.574155e+06</td>\n",
              "      <td>-9.952688</td>\n",
              "      <td>0.203566</td>\n",
              "      <td>0.191450</td>\n",
              "    </tr>\n",
              "    <tr>\n",
              "      <th>2</th>\n",
              "      <td>3</td>\n",
              "      <td>3991815</td>\n",
              "      <td>66</td>\n",
              "      <td>4</td>\n",
              "      <td>married</td>\n",
              "      <td>rented</td>\n",
              "      <td>no</td>\n",
              "      <td>Technical_writer</td>\n",
              "      <td>Alappuzha</td>\n",
              "      <td>Kerala</td>\n",
              "      <td>4</td>\n",
              "      <td>10</td>\n",
              "      <td>-1.008546e+06</td>\n",
              "      <td>16.033857</td>\n",
              "      <td>0.053889</td>\n",
              "      <td>-0.425584</td>\n",
              "    </tr>\n",
              "    <tr>\n",
              "      <th>3</th>\n",
              "      <td>4</td>\n",
              "      <td>6256451</td>\n",
              "      <td>41</td>\n",
              "      <td>2</td>\n",
              "      <td>single</td>\n",
              "      <td>rented</td>\n",
              "      <td>yes</td>\n",
              "      <td>Software_Developer</td>\n",
              "      <td>Bhubaneswar</td>\n",
              "      <td>Odisha</td>\n",
              "      <td>2</td>\n",
              "      <td>12</td>\n",
              "      <td>1.256090e+06</td>\n",
              "      <td>-8.960311</td>\n",
              "      <td>0.327451</td>\n",
              "      <td>-0.936579</td>\n",
              "    </tr>\n",
              "    <tr>\n",
              "      <th>4</th>\n",
              "      <td>5</td>\n",
              "      <td>5768871</td>\n",
              "      <td>47</td>\n",
              "      <td>11</td>\n",
              "      <td>single</td>\n",
              "      <td>rented</td>\n",
              "      <td>no</td>\n",
              "      <td>Civil_servant</td>\n",
              "      <td>Tiruchirappalli[10]</td>\n",
              "      <td>Tamil_Nadu</td>\n",
              "      <td>3</td>\n",
              "      <td>14</td>\n",
              "      <td>7.685097e+05</td>\n",
              "      <td>-2.966084</td>\n",
              "      <td>0.404185</td>\n",
              "      <td>0.624773</td>\n",
              "    </tr>\n",
              "  </tbody>\n",
              "</table>\n",
              "</div>"
            ],
            "text/plain": [
              "   Id   income  age  experience  ...          PCA1       PCA2      MCA1      MCA2\n",
              "0   1  1303835   23           3  ... -3.696526e+06 -26.983843  0.481663  0.288990\n",
              "1   2  7574516   40          10  ...  2.574155e+06  -9.952688  0.203566  0.191450\n",
              "2   3  3991815   66           4  ... -1.008546e+06  16.033857  0.053889 -0.425584\n",
              "3   4  6256451   41           2  ...  1.256090e+06  -8.960311  0.327451 -0.936579\n",
              "4   5  5768871   47          11  ...  7.685097e+05  -2.966084  0.404185  0.624773\n",
              "\n",
              "[5 rows x 16 columns]"
            ]
          },
          "metadata": {
            "tags": []
          },
          "execution_count": 11
        }
      ]
    },
    {
      "cell_type": "markdown",
      "metadata": {
        "id": "PqcgxINa77EW"
      },
      "source": [
        "### Income"
      ]
    },
    {
      "cell_type": "code",
      "metadata": {
        "id": "plJDi4ae7qmp"
      },
      "source": [
        "from scipy.stats import boxcox\n",
        "# train['income_boxcox'] = boxcox(train['income'] + 1)[0]\n",
        "# test['income_boxcox'] = boxcox(test['income'] + 1)[0]\n",
        "loans['income_boxcox'] = boxcox(loans['income'] + 1)[0]"
      ],
      "execution_count": 12,
      "outputs": []
    },
    {
      "cell_type": "markdown",
      "metadata": {
        "id": "g8E63vDA79Qn"
      },
      "source": [
        "### States"
      ]
    },
    {
      "cell_type": "code",
      "metadata": {
        "id": "aouWllxDF0qI"
      },
      "source": [
        "def correct_states(state):\n",
        "  if (state==\"Uttar_Pradesh[5]\" or state==\"Uttar Pradesh[5]\" or state==\"Uttar Pradesh\"):\n",
        "    return \"Uttar_Pradesh\"\n",
        "  elif (state==\"Andhra Pradesh\"):\n",
        "    return \"Andhra_Pradesh\"\n",
        "  elif (state==\"West Bengal\"):\n",
        "    return \"West_Bengal\"\n",
        "  elif (state==\"Jammu and Kashmir\"):\n",
        "    return \"Jammu_and_Kashmir\"\n",
        "  elif (state==\"Tamil Nadu\"):\n",
        "    return \"Tamil_Nadu\"\n",
        "  elif (state==\"Madhya Pradesh\"):\n",
        "    return \"Madhya_Pradesh\"\n",
        "  elif (state==\"Himachal Pradesh\"):\n",
        "    return \"Himachal_Pradesh\"\n",
        "  else:\n",
        "    return state"
      ],
      "execution_count": 13,
      "outputs": []
    },
    {
      "cell_type": "code",
      "metadata": {
        "id": "sTtxuYkLDruL"
      },
      "source": [
        "# train[\"state\"]=train[\"state\"].apply(lambda x:correct_states(x))\n",
        "# test[\"state\"]=test[\"state\"].apply(lambda x:correct_states(x))\n",
        "\n",
        "loans[\"state\"]=loans[\"state\"].apply(lambda x:correct_states(x))"
      ],
      "execution_count": 14,
      "outputs": []
    },
    {
      "cell_type": "code",
      "metadata": {
        "id": "zdKDcotID1S1"
      },
      "source": [
        "agg_cols=[\"income\",\"age\",\"experience\",\"current_house_years\"]\n",
        "oper=[\"mean\",\"min\",\"max\",\"std\"]\n",
        "for op in oper:\n",
        "  loans=aggregation(loans,\"state\",op,agg_cols)\n",
        "  #train=aggregation(train,\"state\",op,agg_cols)\n",
        "  #test=aggregation(test,\"state\",op,agg_cols)"
      ],
      "execution_count": 15,
      "outputs": []
    },
    {
      "cell_type": "code",
      "metadata": {
        "id": "vTOnzspeH7qD"
      },
      "source": [
        "# train=remove_uniqueVal_cols(train)\n",
        "# test=remove_uniqueVal_cols(test)\n",
        "loans=remove_uniqueVal_cols(loans)"
      ],
      "execution_count": 16,
      "outputs": []
    },
    {
      "cell_type": "markdown",
      "metadata": {
        "id": "q8pakycv8A5Q"
      },
      "source": [
        "### Profession "
      ]
    },
    {
      "cell_type": "code",
      "metadata": {
        "colab": {
          "base_uri": "https://localhost:8080/",
          "height": 890
        },
        "id": "r9LA7K2bIDNq",
        "outputId": "cd93eff1-521a-4ab6-d481-3a84763bcae5"
      },
      "source": [
        "plt.figure(figsize=(24,12))\n",
        "sns.barplot(data=train,x=\"profession\",y=\"risk_flag\")\n",
        "plt.xticks(rotation=45)"
      ],
      "execution_count": 17,
      "outputs": [
        {
          "output_type": "execute_result",
          "data": {
            "text/plain": [
              "(array([ 0,  1,  2,  3,  4,  5,  6,  7,  8,  9, 10, 11, 12, 13, 14, 15, 16,\n",
              "        17, 18, 19, 20, 21, 22, 23, 24, 25, 26, 27, 28, 29, 30, 31, 32, 33,\n",
              "        34, 35, 36, 37, 38, 39, 40, 41, 42, 43, 44, 45, 46, 47, 48, 49, 50]),\n",
              " <a list of 51 Text major ticklabel objects>)"
            ]
          },
          "metadata": {
            "tags": []
          },
          "execution_count": 17
        },
        {
          "output_type": "display_data",
          "data": {
            "image/png": "[encoded data removed]",
            "text/plain": [
              "<Figure size 1728x864 with 1 Axes>"
            ]
          },
          "metadata": {
            "tags": [],
            "needs_background": "light"
          }
        }
      ]
    },
    {
      "cell_type": "code",
      "metadata": {
        "id": "LzqxV1JlKzWJ"
      },
      "source": [
        "profession_dict=(train[train[\"risk_flag\"]==0].groupby(\"profession\")[\"risk_flag\"].count()/train[train[\"risk_flag\"]==1].groupby(\"profession\")[\"risk_flag\"].count()).sort_values().to_dict()"
      ],
      "execution_count": 18,
      "outputs": []
    },
    {
      "cell_type": "code",
      "metadata": {
        "id": "KnY-mRtuOZv_"
      },
      "source": [
        "loans[\"profession_score\"]=loans[\"profession\"].map(profession_dict)\n",
        "loans[\"profession_score\"]=loans.profession_score.fillna(value=loans.profession_score.mean())"
      ],
      "execution_count": 19,
      "outputs": []
    },
    {
      "cell_type": "code",
      "metadata": {
        "colab": {
          "base_uri": "https://localhost:8080/"
        },
        "id": "jcqKPtPgX7_m",
        "outputId": "7126c4c3-5550-4863-ade8-aa87ca13b6d0"
      },
      "source": [
        "train_after_fe = loans[:len(train)]\n",
        "test  = loans[len(train):]\n",
        "print(train_after_fe.shape,test.shape)"
      ],
      "execution_count": 20,
      "outputs": [
        {
          "output_type": "stream",
          "text": [
            "(252000, 29) (28000, 29)\n"
          ],
          "name": "stdout"
        }
      ]
    },
    {
      "cell_type": "code",
      "metadata": {
        "id": "tePfah9tSGw2"
      },
      "source": [
        "train_with_target=train_after_fe.copy()\n",
        "train_with_target[\"risk_flag\"]=y"
      ],
      "execution_count": 21,
      "outputs": []
    },
    {
      "cell_type": "code",
      "metadata": {
        "colab": {
          "base_uri": "https://localhost:8080/"
        },
        "id": "xPBPSjJFSR9X",
        "outputId": "fc4a9abb-1b8e-4f0d-f2f8-91c807690458"
      },
      "source": [
        "np.abs(train_with_target.corr()[\"risk_flag\"]).sort_values(ascending=False)"
      ],
      "execution_count": 22,
      "outputs": [
        {
          "output_type": "execute_result",
          "data": {
            "text/plain": [
              "risk_flag                         1.000000e+00\n",
              "profession_score                  4.813619e-02\n",
              "experience                        3.452261e-02\n",
              "Id                                3.215350e-02\n",
              "PCA2                              2.181207e-02\n",
              "age                               2.180927e-02\n",
              "current_job_years                 1.694158e-02\n",
              "state_min_age                     1.638324e-02\n",
              "MCA1                              1.613401e-02\n",
              "state_mean_income                 1.268664e-02\n",
              "state_std_experience              1.065126e-02\n",
              "state_mean_current_house_years    9.336790e-03\n",
              "state_std_age                     8.628858e-03\n",
              "state_mean_age                    7.970306e-03\n",
              "state_min_income                  6.723726e-03\n",
              "state_std_income                  6.343137e-03\n",
              "state_max_income                  5.290158e-03\n",
              "income_boxcox                     4.726866e-03\n",
              "current_house_years               4.375163e-03\n",
              "state_mean_experience             3.883355e-03\n",
              "PCA1                              3.091168e-03\n",
              "income                            3.091168e-03\n",
              "state_std_current_house_years     8.717693e-04\n",
              "MCA2                              5.303612e-07\n",
              "Name: risk_flag, dtype: float64"
            ]
          },
          "metadata": {
            "tags": []
          },
          "execution_count": 22
        }
      ]
    },
    {
      "cell_type": "markdown",
      "metadata": {
        "id": "osYeRzOoKniV"
      },
      "source": [
        "# Preprocessing "
      ]
    },
    {
      "cell_type": "code",
      "metadata": {
        "id": "PXQJOGZlYBE-"
      },
      "source": [
        "train_after_fe=pd.get_dummies(data=train_after_fe,columns=[\"house_ownership\",\"married\",\"car_ownership\"],drop_first=True)\n",
        "train_after_fe.drop([\"profession\",\"city\",\"state\"],axis=1,inplace=True)\n",
        "\n",
        "test=pd.get_dummies(data=test,columns=[\"house_ownership\",\"married\",\"car_ownership\"],drop_first=True)\n",
        "test.drop([\"profession\",\"city\",\"state\"],axis=1,inplace=True)"
      ],
      "execution_count": 23,
      "outputs": []
    },
    {
      "cell_type": "code",
      "metadata": {
        "id": "fxVL9kRcWz_m"
      },
      "source": [
        "train_id=train_after_fe[\"Id\"]\n",
        "test_id=test[\"Id\"]\n",
        "train_after_fe.drop(\"Id\",axis=1,inplace=True)\n",
        "test.drop(\"Id\",axis=1,inplace=True)"
      ],
      "execution_count": 24,
      "outputs": []
    },
    {
      "cell_type": "code",
      "metadata": {
        "colab": {
          "base_uri": "https://localhost:8080/",
          "height": 391
        },
        "id": "TzmiErQyXNQM",
        "outputId": "812c512c-f8d0-48c4-fc59-cc0ff68611ba"
      },
      "source": [
        "display(train_after_fe.head())\n",
        "display(test.head())"
      ],
      "execution_count": 25,
      "outputs": [
        {
          "output_type": "display_data",
          "data": {
            "text/html": [
              "<div>\n",
              "<style scoped>\n",
              "    .dataframe tbody tr th:only-of-type {\n",
              "        vertical-align: middle;\n",
              "    }\n",
              "\n",
              "    .dataframe tbody tr th {\n",
              "        vertical-align: top;\n",
              "    }\n",
              "\n",
              "    .dataframe thead th {\n",
              "        text-align: right;\n",
              "    }\n",
              "</style>\n",
              "<table border=\"1\" class=\"dataframe\">\n",
              "  <thead>\n",
              "    <tr style=\"text-align: right;\">\n",
              "      <th></th>\n",
              "      <th>income</th>\n",
              "      <th>age</th>\n",
              "      <th>experience</th>\n",
              "      <th>current_job_years</th>\n",
              "      <th>current_house_years</th>\n",
              "      <th>PCA1</th>\n",
              "      <th>PCA2</th>\n",
              "      <th>MCA1</th>\n",
              "      <th>MCA2</th>\n",
              "      <th>income_boxcox</th>\n",
              "      <th>state_mean_income</th>\n",
              "      <th>state_mean_age</th>\n",
              "      <th>state_mean_experience</th>\n",
              "      <th>state_mean_current_house_years</th>\n",
              "      <th>state_min_income</th>\n",
              "      <th>state_min_age</th>\n",
              "      <th>state_max_income</th>\n",
              "      <th>state_std_income</th>\n",
              "      <th>state_std_age</th>\n",
              "      <th>state_std_experience</th>\n",
              "      <th>state_std_current_house_years</th>\n",
              "      <th>profession_score</th>\n",
              "      <th>house_ownership_owned</th>\n",
              "      <th>house_ownership_rented</th>\n",
              "      <th>married_single</th>\n",
              "      <th>car_ownership_yes</th>\n",
              "    </tr>\n",
              "  </thead>\n",
              "  <tbody>\n",
              "    <tr>\n",
              "      <th>0</th>\n",
              "      <td>1303835</td>\n",
              "      <td>23</td>\n",
              "      <td>3</td>\n",
              "      <td>3</td>\n",
              "      <td>13</td>\n",
              "      <td>-3.696526e+06</td>\n",
              "      <td>-26.983843</td>\n",
              "      <td>0.481663</td>\n",
              "      <td>0.288990</td>\n",
              "      <td>30789.443795</td>\n",
              "      <td>4.891034e+06</td>\n",
              "      <td>49.652254</td>\n",
              "      <td>10.551495</td>\n",
              "      <td>12.012499</td>\n",
              "      <td>13629</td>\n",
              "      <td>21</td>\n",
              "      <td>9994932</td>\n",
              "      <td>2.890223e+06</td>\n",
              "      <td>16.976140</td>\n",
              "      <td>5.913636</td>\n",
              "      <td>1.451546</td>\n",
              "      <td>7.963918</td>\n",
              "      <td>0</td>\n",
              "      <td>1</td>\n",
              "      <td>1</td>\n",
              "      <td>0</td>\n",
              "    </tr>\n",
              "    <tr>\n",
              "      <th>1</th>\n",
              "      <td>7574516</td>\n",
              "      <td>40</td>\n",
              "      <td>10</td>\n",
              "      <td>9</td>\n",
              "      <td>13</td>\n",
              "      <td>2.574155e+06</td>\n",
              "      <td>-9.952688</td>\n",
              "      <td>0.203566</td>\n",
              "      <td>0.191450</td>\n",
              "      <td>107313.465390</td>\n",
              "      <td>5.017456e+06</td>\n",
              "      <td>50.136905</td>\n",
              "      <td>10.012926</td>\n",
              "      <td>11.935968</td>\n",
              "      <td>10318</td>\n",
              "      <td>21</td>\n",
              "      <td>9987388</td>\n",
              "      <td>2.908268e+06</td>\n",
              "      <td>17.043653</td>\n",
              "      <td>5.887652</td>\n",
              "      <td>1.409368</td>\n",
              "      <td>5.737333</td>\n",
              "      <td>0</td>\n",
              "      <td>1</td>\n",
              "      <td>1</td>\n",
              "      <td>0</td>\n",
              "    </tr>\n",
              "    <tr>\n",
              "      <th>2</th>\n",
              "      <td>3991815</td>\n",
              "      <td>66</td>\n",
              "      <td>4</td>\n",
              "      <td>4</td>\n",
              "      <td>10</td>\n",
              "      <td>-1.008546e+06</td>\n",
              "      <td>16.033857</td>\n",
              "      <td>0.053889</td>\n",
              "      <td>-0.425584</td>\n",
              "      <td>68115.754320</td>\n",
              "      <td>5.153478e+06</td>\n",
              "      <td>50.800439</td>\n",
              "      <td>8.561373</td>\n",
              "      <td>12.071014</td>\n",
              "      <td>16212</td>\n",
              "      <td>21</td>\n",
              "      <td>9987955</td>\n",
              "      <td>2.772674e+06</td>\n",
              "      <td>16.652109</td>\n",
              "      <td>5.713648</td>\n",
              "      <td>1.473761</td>\n",
              "      <td>6.453372</td>\n",
              "      <td>0</td>\n",
              "      <td>1</td>\n",
              "      <td>0</td>\n",
              "      <td>0</td>\n",
              "    </tr>\n",
              "    <tr>\n",
              "      <th>3</th>\n",
              "      <td>6256451</td>\n",
              "      <td>41</td>\n",
              "      <td>2</td>\n",
              "      <td>2</td>\n",
              "      <td>12</td>\n",
              "      <td>1.256090e+06</td>\n",
              "      <td>-8.960311</td>\n",
              "      <td>0.327451</td>\n",
              "      <td>-0.936579</td>\n",
              "      <td>93699.322542</td>\n",
              "      <td>4.931571e+06</td>\n",
              "      <td>49.287296</td>\n",
              "      <td>11.217366</td>\n",
              "      <td>12.014763</td>\n",
              "      <td>13696</td>\n",
              "      <td>21</td>\n",
              "      <td>9991569</td>\n",
              "      <td>2.945648e+06</td>\n",
              "      <td>17.294016</td>\n",
              "      <td>6.265665</td>\n",
              "      <td>1.344554</td>\n",
              "      <td>5.737333</td>\n",
              "      <td>0</td>\n",
              "      <td>1</td>\n",
              "      <td>1</td>\n",
              "      <td>1</td>\n",
              "    </tr>\n",
              "    <tr>\n",
              "      <th>4</th>\n",
              "      <td>5768871</td>\n",
              "      <td>47</td>\n",
              "      <td>11</td>\n",
              "      <td>3</td>\n",
              "      <td>14</td>\n",
              "      <td>7.685097e+05</td>\n",
              "      <td>-2.966084</td>\n",
              "      <td>0.404185</td>\n",
              "      <td>0.624773</td>\n",
              "      <td>88456.809009</td>\n",
              "      <td>5.039721e+06</td>\n",
              "      <td>50.070736</td>\n",
              "      <td>10.391432</td>\n",
              "      <td>11.987109</td>\n",
              "      <td>11511</td>\n",
              "      <td>21</td>\n",
              "      <td>9994061</td>\n",
              "      <td>2.872677e+06</td>\n",
              "      <td>16.621882</td>\n",
              "      <td>5.945461</td>\n",
              "      <td>1.423089</td>\n",
              "      <td>7.636008</td>\n",
              "      <td>0</td>\n",
              "      <td>1</td>\n",
              "      <td>1</td>\n",
              "      <td>0</td>\n",
              "    </tr>\n",
              "  </tbody>\n",
              "</table>\n",
              "</div>"
            ],
            "text/plain": [
              "    income  age  ...  married_single  car_ownership_yes\n",
              "0  1303835   23  ...               1                  0\n",
              "1  7574516   40  ...               1                  0\n",
              "2  3991815   66  ...               0                  0\n",
              "3  6256451   41  ...               1                  1\n",
              "4  5768871   47  ...               1                  0\n",
              "\n",
              "[5 rows x 26 columns]"
            ]
          },
          "metadata": {
            "tags": []
          }
        },
        {
          "output_type": "display_data",
          "data": {
            "text/html": [
              "<div>\n",
              "<style scoped>\n",
              "    .dataframe tbody tr th:only-of-type {\n",
              "        vertical-align: middle;\n",
              "    }\n",
              "\n",
              "    .dataframe tbody tr th {\n",
              "        vertical-align: top;\n",
              "    }\n",
              "\n",
              "    .dataframe thead th {\n",
              "        text-align: right;\n",
              "    }\n",
              "</style>\n",
              "<table border=\"1\" class=\"dataframe\">\n",
              "  <thead>\n",
              "    <tr style=\"text-align: right;\">\n",
              "      <th></th>\n",
              "      <th>income</th>\n",
              "      <th>age</th>\n",
              "      <th>experience</th>\n",
              "      <th>current_job_years</th>\n",
              "      <th>current_house_years</th>\n",
              "      <th>PCA1</th>\n",
              "      <th>PCA2</th>\n",
              "      <th>MCA1</th>\n",
              "      <th>MCA2</th>\n",
              "      <th>income_boxcox</th>\n",
              "      <th>state_mean_income</th>\n",
              "      <th>state_mean_age</th>\n",
              "      <th>state_mean_experience</th>\n",
              "      <th>state_mean_current_house_years</th>\n",
              "      <th>state_min_income</th>\n",
              "      <th>state_min_age</th>\n",
              "      <th>state_max_income</th>\n",
              "      <th>state_std_income</th>\n",
              "      <th>state_std_age</th>\n",
              "      <th>state_std_experience</th>\n",
              "      <th>state_std_current_house_years</th>\n",
              "      <th>profession_score</th>\n",
              "      <th>house_ownership_owned</th>\n",
              "      <th>house_ownership_rented</th>\n",
              "      <th>married_single</th>\n",
              "      <th>car_ownership_yes</th>\n",
              "    </tr>\n",
              "  </thead>\n",
              "  <tbody>\n",
              "    <tr>\n",
              "      <th>252000</th>\n",
              "      <td>7393090</td>\n",
              "      <td>59</td>\n",
              "      <td>19</td>\n",
              "      <td>4</td>\n",
              "      <td>13</td>\n",
              "      <td>2.392729e+06</td>\n",
              "      <td>9.042886</td>\n",
              "      <td>-0.137017</td>\n",
              "      <td>-0.326405</td>\n",
              "      <td>105483.049885</td>\n",
              "      <td>5.119232e+06</td>\n",
              "      <td>50.090696</td>\n",
              "      <td>9.920962</td>\n",
              "      <td>11.973309</td>\n",
              "      <td>10310</td>\n",
              "      <td>21</td>\n",
              "      <td>9989145</td>\n",
              "      <td>2.892572e+06</td>\n",
              "      <td>17.008579</td>\n",
              "      <td>5.996778</td>\n",
              "      <td>1.407246</td>\n",
              "      <td>5.931751</td>\n",
              "      <td>0</td>\n",
              "      <td>1</td>\n",
              "      <td>1</td>\n",
              "      <td>0</td>\n",
              "    </tr>\n",
              "    <tr>\n",
              "      <th>252001</th>\n",
              "      <td>1215004</td>\n",
              "      <td>25</td>\n",
              "      <td>5</td>\n",
              "      <td>5</td>\n",
              "      <td>10</td>\n",
              "      <td>-3.785357e+06</td>\n",
              "      <td>-24.978106</td>\n",
              "      <td>0.018459</td>\n",
              "      <td>0.075065</td>\n",
              "      <td>29285.644937</td>\n",
              "      <td>5.017456e+06</td>\n",
              "      <td>50.136905</td>\n",
              "      <td>10.012926</td>\n",
              "      <td>11.935968</td>\n",
              "      <td>10318</td>\n",
              "      <td>21</td>\n",
              "      <td>9987388</td>\n",
              "      <td>2.908268e+06</td>\n",
              "      <td>17.043653</td>\n",
              "      <td>5.887652</td>\n",
              "      <td>1.409368</td>\n",
              "      <td>6.364379</td>\n",
              "      <td>0</td>\n",
              "      <td>1</td>\n",
              "      <td>1</td>\n",
              "      <td>0</td>\n",
              "    </tr>\n",
              "    <tr>\n",
              "      <th>252002</th>\n",
              "      <td>8901342</td>\n",
              "      <td>50</td>\n",
              "      <td>12</td>\n",
              "      <td>9</td>\n",
              "      <td>14</td>\n",
              "      <td>3.900981e+06</td>\n",
              "      <td>0.051408</td>\n",
              "      <td>-0.007750</td>\n",
              "      <td>0.134789</td>\n",
              "      <td>120336.990962</td>\n",
              "      <td>5.017456e+06</td>\n",
              "      <td>50.136905</td>\n",
              "      <td>10.012926</td>\n",
              "      <td>11.935968</td>\n",
              "      <td>10318</td>\n",
              "      <td>21</td>\n",
              "      <td>9987388</td>\n",
              "      <td>2.908268e+06</td>\n",
              "      <td>17.043653</td>\n",
              "      <td>5.887652</td>\n",
              "      <td>1.409368</td>\n",
              "      <td>6.721154</td>\n",
              "      <td>0</td>\n",
              "      <td>1</td>\n",
              "      <td>1</td>\n",
              "      <td>0</td>\n",
              "    </tr>\n",
              "    <tr>\n",
              "      <th>252003</th>\n",
              "      <td>1944421</td>\n",
              "      <td>49</td>\n",
              "      <td>9</td>\n",
              "      <td>3</td>\n",
              "      <td>12</td>\n",
              "      <td>-3.055940e+06</td>\n",
              "      <td>-0.979750</td>\n",
              "      <td>-0.726737</td>\n",
              "      <td>0.176913</td>\n",
              "      <td>40885.809138</td>\n",
              "      <td>5.017456e+06</td>\n",
              "      <td>50.136905</td>\n",
              "      <td>10.012926</td>\n",
              "      <td>11.935968</td>\n",
              "      <td>10318</td>\n",
              "      <td>21</td>\n",
              "      <td>9987388</td>\n",
              "      <td>2.908268e+06</td>\n",
              "      <td>17.043653</td>\n",
              "      <td>5.887652</td>\n",
              "      <td>1.409368</td>\n",
              "      <td>7.232804</td>\n",
              "      <td>0</td>\n",
              "      <td>1</td>\n",
              "      <td>0</td>\n",
              "      <td>1</td>\n",
              "    </tr>\n",
              "    <tr>\n",
              "      <th>252004</th>\n",
              "      <td>13429</td>\n",
              "      <td>25</td>\n",
              "      <td>18</td>\n",
              "      <td>13</td>\n",
              "      <td>11</td>\n",
              "      <td>-4.986932e+06</td>\n",
              "      <td>-24.981667</td>\n",
              "      <td>-0.876851</td>\n",
              "      <td>-0.251879</td>\n",
              "      <td>1196.201963</td>\n",
              "      <td>5.119232e+06</td>\n",
              "      <td>50.090696</td>\n",
              "      <td>9.920962</td>\n",
              "      <td>11.973309</td>\n",
              "      <td>10310</td>\n",
              "      <td>21</td>\n",
              "      <td>9989145</td>\n",
              "      <td>2.892572e+06</td>\n",
              "      <td>17.008579</td>\n",
              "      <td>5.996778</td>\n",
              "      <td>1.407246</td>\n",
              "      <td>7.360890</td>\n",
              "      <td>0</td>\n",
              "      <td>1</td>\n",
              "      <td>1</td>\n",
              "      <td>1</td>\n",
              "    </tr>\n",
              "  </tbody>\n",
              "</table>\n",
              "</div>"
            ],
            "text/plain": [
              "         income  age  ...  married_single  car_ownership_yes\n",
              "252000  7393090   59  ...               1                  0\n",
              "252001  1215004   25  ...               1                  0\n",
              "252002  8901342   50  ...               1                  0\n",
              "252003  1944421   49  ...               0                  1\n",
              "252004    13429   25  ...               1                  1\n",
              "\n",
              "[5 rows x 26 columns]"
            ]
          },
          "metadata": {
            "tags": []
          }
        }
      ]
    },
    {
      "cell_type": "code",
      "metadata": {
        "id": "jcjvLA0aXk03"
      },
      "source": [
        "from sklearn.preprocessing import MinMaxScaler\n",
        "scaler = MinMaxScaler()\n",
        "train_scaled = scaler.fit_transform(train_after_fe)\n",
        "test_scaled = scaler.transform(test)"
      ],
      "execution_count": 26,
      "outputs": []
    },
    {
      "cell_type": "markdown",
      "metadata": {
        "id": "240rW5LgWHuM"
      },
      "source": [
        "# Polynomial features"
      ]
    },
    {
      "cell_type": "code",
      "metadata": {
        "id": "88nQKpaZWKXV"
      },
      "source": [
        "from sklearn.preprocessing import PolynomialFeatures\n",
        "poly = PolynomialFeatures(degree=2).fit(train_after_fe)"
      ],
      "execution_count": 27,
      "outputs": []
    },
    {
      "cell_type": "code",
      "metadata": {
        "id": "nCC1iRedXYOv"
      },
      "source": [
        "train_poly=poly.transform(train_scaled)\n",
        "test_poly=poly.transform(test_scaled)"
      ],
      "execution_count": 28,
      "outputs": []
    },
    {
      "cell_type": "code",
      "metadata": {
        "colab": {
          "base_uri": "https://localhost:8080/"
        },
        "id": "ks7L9V90Yt6O",
        "outputId": "532aa9d9-0241-404f-dad9-a500d4a269d8"
      },
      "source": [
        "print(test_poly.shape,train_poly.shape,y.shape)"
      ],
      "execution_count": 29,
      "outputs": [
        {
          "output_type": "stream",
          "text": [
            "(28000, 378) (252000, 378) (252000,)\n"
          ],
          "name": "stdout"
        }
      ]
    },
    {
      "cell_type": "markdown",
      "metadata": {
        "id": "DYnBlLEkZK-k"
      },
      "source": [
        "# Feature Selection "
      ]
    },
    {
      "cell_type": "code",
      "metadata": {
        "id": "BXZJqPKsB6_y"
      },
      "source": [
        "from sklearn.feature_selection import SelectKBest\n",
        "from sklearn.feature_selection import chi2\n",
        "from sklearn.neighbors import KNeighborsClassifier"
      ],
      "execution_count": 30,
      "outputs": []
    },
    {
      "cell_type": "code",
      "metadata": {
        "colab": {
          "base_uri": "https://localhost:8080/",
          "height": 512
        },
        "id": "LZrV8ULaY3d7",
        "outputId": "363daa98-450a-4ece-ce3e-36a1b72e2ce8"
      },
      "source": [
        "## Get score using original model\n",
        "knn =KNeighborsClassifier(n_neighbors=7)\n",
        "knn.fit(train_poly,y)\n",
        "scores = cross_val_score(knn,train_poly,y,cv=5,scoring=\"roc_auc\")\n",
        "print('ROC AUC (original): %.3f +/- %.3f' % (np.mean(scores), np.std(scores)))\n",
        "highest_score = np.mean(scores)\n",
        "\n",
        "## Get score using models with feature selection\n",
        "for i in range(1, train_poly.shape[1]+1, 5):\n",
        "    # Select i features\n",
        "    select = SelectKBest(score_func=chi2, k=i)\n",
        "    select.fit(train_poly,y)\n",
        "    X_train_poly_selected = select.transform(train_poly)\n",
        "\n",
        "    # Model with i features selected\n",
        "    knn.fit(X_train_poly_selected, y)\n",
        "    scores = cross_val_score(knn, X_train_poly_selected, y, cv=5,scoring=\"roc_auc\")\n",
        "    print('ROC AUC (number of features = %i): %.3f +/- %.3f' % (i, \n",
        "                                                                     np.mean(scores), \n",
        "                                                                     np.std(scores)))\n",
        "    \n",
        "    # Save results if best score\n",
        "    if np.mean(scores) > highest_score:\n",
        "        highest_score = np.mean(scores)\n",
        "        std = np.std(scores)\n",
        "        k_features_highest_score = i\n",
        "    elif np.mean(scores) == highest_score:\n",
        "        if np.std(scores) < std:\n",
        "            highest_score = np.mean(scores)\n",
        "            std = np.std(scores)\n",
        "            k_features_highest_score = i\n",
        "        \n",
        "# Print the number of features\n",
        "print('Number of features when highest score: %i' % k_features_highest_score)"
      ],
      "execution_count": null,
      "outputs": [
        {
          "output_type": "stream",
          "text": [
            "ROC AUC (original): 0.863 +/- 0.164\n",
            "ROC AUC (number of features = 1): 0.515 +/- 0.029\n",
            "ROC AUC (number of features = 6): 0.527 +/- 0.024\n",
            "ROC AUC (number of features = 11): 0.548 +/- 0.030\n",
            "ROC AUC (number of features = 16): 0.644 +/- 0.071\n",
            "ROC AUC (number of features = 21): 0.645 +/- 0.064\n",
            "ROC AUC (number of features = 26): 0.861 +/- 0.161\n"
          ],
          "name": "stdout"
        },
        {
          "output_type": "error",
          "ename": "KeyboardInterrupt",
          "evalue": "ignored",
          "traceback": [
            "\u001b[0;31m---------------------------------------------------------------------------\u001b[0m",
            "\u001b[0;31mKeyboardInterrupt\u001b[0m                         Traceback (most recent call last)",
            "\u001b[0;32m<ipython-input-31-b3ecb8df377c>\u001b[0m in \u001b[0;36m<module>\u001b[0;34m()\u001b[0m\n\u001b[1;32m     19\u001b[0m     \u001b[0;31m# Model with i features selected\u001b[0m\u001b[0;34m\u001b[0m\u001b[0;34m\u001b[0m\u001b[0;34m\u001b[0m\u001b[0m\n\u001b[1;32m     20\u001b[0m     \u001b[0mknn\u001b[0m\u001b[0;34m.\u001b[0m\u001b[0mfit\u001b[0m\u001b[0;34m(\u001b[0m\u001b[0mX_train_poly_selected\u001b[0m\u001b[0;34m,\u001b[0m \u001b[0my\u001b[0m\u001b[0;34m)\u001b[0m\u001b[0;34m\u001b[0m\u001b[0;34m\u001b[0m\u001b[0m\n\u001b[0;32m---> 21\u001b[0;31m     \u001b[0mscores\u001b[0m \u001b[0;34m=\u001b[0m \u001b[0mcross_val_score\u001b[0m\u001b[0;34m(\u001b[0m\u001b[0mknn\u001b[0m\u001b[0;34m,\u001b[0m \u001b[0mX_train_poly_selected\u001b[0m\u001b[0;34m,\u001b[0m \u001b[0my\u001b[0m\u001b[0;34m,\u001b[0m \u001b[0mcv\u001b[0m\u001b[0;34m=\u001b[0m\u001b[0;36m5\u001b[0m\u001b[0;34m,\u001b[0m\u001b[0mscoring\u001b[0m\u001b[0;34m=\u001b[0m\u001b[0;34m\"roc_auc\"\u001b[0m\u001b[0;34m)\u001b[0m\u001b[0;34m\u001b[0m\u001b[0;34m\u001b[0m\u001b[0m\n\u001b[0m\u001b[1;32m     22\u001b[0m     print('ROC AUC (number of features = %i): %.3f +/- %.3f' % (i, \n\u001b[1;32m     23\u001b[0m                                                                      \u001b[0mnp\u001b[0m\u001b[0;34m.\u001b[0m\u001b[0mmean\u001b[0m\u001b[0;34m(\u001b[0m\u001b[0mscores\u001b[0m\u001b[0;34m)\u001b[0m\u001b[0;34m,\u001b[0m\u001b[0;34m\u001b[0m\u001b[0;34m\u001b[0m\u001b[0m\n",
            "\u001b[0;32m/usr/local/lib/python3.7/dist-packages/sklearn/model_selection/_validation.py\u001b[0m in \u001b[0;36mcross_val_score\u001b[0;34m(estimator, X, y, groups, scoring, cv, n_jobs, verbose, fit_params, pre_dispatch, error_score)\u001b[0m\n\u001b[1;32m    388\u001b[0m                                 \u001b[0mfit_params\u001b[0m\u001b[0;34m=\u001b[0m\u001b[0mfit_params\u001b[0m\u001b[0;34m,\u001b[0m\u001b[0;34m\u001b[0m\u001b[0;34m\u001b[0m\u001b[0m\n\u001b[1;32m    389\u001b[0m                                 \u001b[0mpre_dispatch\u001b[0m\u001b[0;34m=\u001b[0m\u001b[0mpre_dispatch\u001b[0m\u001b[0;34m,\u001b[0m\u001b[0;34m\u001b[0m\u001b[0;34m\u001b[0m\u001b[0m\n\u001b[0;32m--> 390\u001b[0;31m                                 error_score=error_score)\n\u001b[0m\u001b[1;32m    391\u001b[0m     \u001b[0;32mreturn\u001b[0m \u001b[0mcv_results\u001b[0m\u001b[0;34m[\u001b[0m\u001b[0;34m'test_score'\u001b[0m\u001b[0;34m]\u001b[0m\u001b[0;34m\u001b[0m\u001b[0;34m\u001b[0m\u001b[0m\n\u001b[1;32m    392\u001b[0m \u001b[0;34m\u001b[0m\u001b[0m\n",
            "\u001b[0;32m/usr/local/lib/python3.7/dist-packages/sklearn/model_selection/_validation.py\u001b[0m in \u001b[0;36mcross_validate\u001b[0;34m(estimator, X, y, groups, scoring, cv, n_jobs, verbose, fit_params, pre_dispatch, return_train_score, return_estimator, error_score)\u001b[0m\n\u001b[1;32m    234\u001b[0m             \u001b[0mreturn_times\u001b[0m\u001b[0;34m=\u001b[0m\u001b[0;32mTrue\u001b[0m\u001b[0;34m,\u001b[0m \u001b[0mreturn_estimator\u001b[0m\u001b[0;34m=\u001b[0m\u001b[0mreturn_estimator\u001b[0m\u001b[0;34m,\u001b[0m\u001b[0;34m\u001b[0m\u001b[0;34m\u001b[0m\u001b[0m\n\u001b[1;32m    235\u001b[0m             error_score=error_score)\n\u001b[0;32m--> 236\u001b[0;31m         for train, test in cv.split(X, y, groups))\n\u001b[0m\u001b[1;32m    237\u001b[0m \u001b[0;34m\u001b[0m\u001b[0m\n\u001b[1;32m    238\u001b[0m     \u001b[0mzipped_scores\u001b[0m \u001b[0;34m=\u001b[0m \u001b[0mlist\u001b[0m\u001b[0;34m(\u001b[0m\u001b[0mzip\u001b[0m\u001b[0;34m(\u001b[0m\u001b[0;34m*\u001b[0m\u001b[0mscores\u001b[0m\u001b[0;34m)\u001b[0m\u001b[0;34m)\u001b[0m\u001b[0;34m\u001b[0m\u001b[0;34m\u001b[0m\u001b[0m\n",
            "\u001b[0;32m/usr/local/lib/python3.7/dist-packages/joblib/parallel.py\u001b[0m in \u001b[0;36m__call__\u001b[0;34m(self, iterable)\u001b[0m\n\u001b[1;32m   1042\u001b[0m                 \u001b[0mself\u001b[0m\u001b[0;34m.\u001b[0m\u001b[0m_iterating\u001b[0m \u001b[0;34m=\u001b[0m \u001b[0mself\u001b[0m\u001b[0;34m.\u001b[0m\u001b[0m_original_iterator\u001b[0m \u001b[0;32mis\u001b[0m \u001b[0;32mnot\u001b[0m \u001b[0;32mNone\u001b[0m\u001b[0;34m\u001b[0m\u001b[0;34m\u001b[0m\u001b[0m\n\u001b[1;32m   1043\u001b[0m \u001b[0;34m\u001b[0m\u001b[0m\n\u001b[0;32m-> 1044\u001b[0;31m             \u001b[0;32mwhile\u001b[0m \u001b[0mself\u001b[0m\u001b[0;34m.\u001b[0m\u001b[0mdispatch_one_batch\u001b[0m\u001b[0;34m(\u001b[0m\u001b[0miterator\u001b[0m\u001b[0;34m)\u001b[0m\u001b[0;34m:\u001b[0m\u001b[0;34m\u001b[0m\u001b[0;34m\u001b[0m\u001b[0m\n\u001b[0m\u001b[1;32m   1045\u001b[0m                 \u001b[0;32mpass\u001b[0m\u001b[0;34m\u001b[0m\u001b[0;34m\u001b[0m\u001b[0m\n\u001b[1;32m   1046\u001b[0m \u001b[0;34m\u001b[0m\u001b[0m\n",
            "\u001b[0;32m/usr/local/lib/python3.7/dist-packages/joblib/parallel.py\u001b[0m in \u001b[0;36mdispatch_one_batch\u001b[0;34m(self, iterator)\u001b[0m\n\u001b[1;32m    857\u001b[0m                 \u001b[0;32mreturn\u001b[0m \u001b[0;32mFalse\u001b[0m\u001b[0;34m\u001b[0m\u001b[0;34m\u001b[0m\u001b[0m\n\u001b[1;32m    858\u001b[0m             \u001b[0;32melse\u001b[0m\u001b[0;34m:\u001b[0m\u001b[0;34m\u001b[0m\u001b[0;34m\u001b[0m\u001b[0m\n\u001b[0;32m--> 859\u001b[0;31m                 \u001b[0mself\u001b[0m\u001b[0;34m.\u001b[0m\u001b[0m_dispatch\u001b[0m\u001b[0;34m(\u001b[0m\u001b[0mtasks\u001b[0m\u001b[0;34m)\u001b[0m\u001b[0;34m\u001b[0m\u001b[0;34m\u001b[0m\u001b[0m\n\u001b[0m\u001b[1;32m    860\u001b[0m                 \u001b[0;32mreturn\u001b[0m \u001b[0;32mTrue\u001b[0m\u001b[0;34m\u001b[0m\u001b[0;34m\u001b[0m\u001b[0m\n\u001b[1;32m    861\u001b[0m \u001b[0;34m\u001b[0m\u001b[0m\n",
            "\u001b[0;32m/usr/local/lib/python3.7/dist-packages/joblib/parallel.py\u001b[0m in \u001b[0;36m_dispatch\u001b[0;34m(self, batch)\u001b[0m\n\u001b[1;32m    775\u001b[0m         \u001b[0;32mwith\u001b[0m \u001b[0mself\u001b[0m\u001b[0;34m.\u001b[0m\u001b[0m_lock\u001b[0m\u001b[0;34m:\u001b[0m\u001b[0;34m\u001b[0m\u001b[0;34m\u001b[0m\u001b[0m\n\u001b[1;32m    776\u001b[0m             \u001b[0mjob_idx\u001b[0m \u001b[0;34m=\u001b[0m \u001b[0mlen\u001b[0m\u001b[0;34m(\u001b[0m\u001b[0mself\u001b[0m\u001b[0;34m.\u001b[0m\u001b[0m_jobs\u001b[0m\u001b[0;34m)\u001b[0m\u001b[0;34m\u001b[0m\u001b[0;34m\u001b[0m\u001b[0m\n\u001b[0;32m--> 777\u001b[0;31m             \u001b[0mjob\u001b[0m \u001b[0;34m=\u001b[0m \u001b[0mself\u001b[0m\u001b[0;34m.\u001b[0m\u001b[0m_backend\u001b[0m\u001b[0;34m.\u001b[0m\u001b[0mapply_async\u001b[0m\u001b[0;34m(\u001b[0m\u001b[0mbatch\u001b[0m\u001b[0;34m,\u001b[0m \u001b[0mcallback\u001b[0m\u001b[0;34m=\u001b[0m\u001b[0mcb\u001b[0m\u001b[0;34m)\u001b[0m\u001b[0;34m\u001b[0m\u001b[0;34m\u001b[0m\u001b[0m\n\u001b[0m\u001b[1;32m    778\u001b[0m             \u001b[0;31m# A job can complete so quickly than its callback is\u001b[0m\u001b[0;34m\u001b[0m\u001b[0;34m\u001b[0m\u001b[0;34m\u001b[0m\u001b[0m\n\u001b[1;32m    779\u001b[0m             \u001b[0;31m# called before we get here, causing self._jobs to\u001b[0m\u001b[0;34m\u001b[0m\u001b[0;34m\u001b[0m\u001b[0;34m\u001b[0m\u001b[0m\n",
            "\u001b[0;32m/usr/local/lib/python3.7/dist-packages/joblib/_parallel_backends.py\u001b[0m in \u001b[0;36mapply_async\u001b[0;34m(self, func, callback)\u001b[0m\n\u001b[1;32m    206\u001b[0m     \u001b[0;32mdef\u001b[0m \u001b[0mapply_async\u001b[0m\u001b[0;34m(\u001b[0m\u001b[0mself\u001b[0m\u001b[0;34m,\u001b[0m \u001b[0mfunc\u001b[0m\u001b[0;34m,\u001b[0m \u001b[0mcallback\u001b[0m\u001b[0;34m=\u001b[0m\u001b[0;32mNone\u001b[0m\u001b[0;34m)\u001b[0m\u001b[0;34m:\u001b[0m\u001b[0;34m\u001b[0m\u001b[0;34m\u001b[0m\u001b[0m\n\u001b[1;32m    207\u001b[0m         \u001b[0;34m\"\"\"Schedule a func to be run\"\"\"\u001b[0m\u001b[0;34m\u001b[0m\u001b[0;34m\u001b[0m\u001b[0m\n\u001b[0;32m--> 208\u001b[0;31m         \u001b[0mresult\u001b[0m \u001b[0;34m=\u001b[0m \u001b[0mImmediateResult\u001b[0m\u001b[0;34m(\u001b[0m\u001b[0mfunc\u001b[0m\u001b[0;34m)\u001b[0m\u001b[0;34m\u001b[0m\u001b[0;34m\u001b[0m\u001b[0m\n\u001b[0m\u001b[1;32m    209\u001b[0m         \u001b[0;32mif\u001b[0m \u001b[0mcallback\u001b[0m\u001b[0;34m:\u001b[0m\u001b[0;34m\u001b[0m\u001b[0;34m\u001b[0m\u001b[0m\n\u001b[1;32m    210\u001b[0m             \u001b[0mcallback\u001b[0m\u001b[0;34m(\u001b[0m\u001b[0mresult\u001b[0m\u001b[0;34m)\u001b[0m\u001b[0;34m\u001b[0m\u001b[0;34m\u001b[0m\u001b[0m\n",
            "\u001b[0;32m/usr/local/lib/python3.7/dist-packages/joblib/_parallel_backends.py\u001b[0m in \u001b[0;36m__init__\u001b[0;34m(self, batch)\u001b[0m\n\u001b[1;32m    570\u001b[0m         \u001b[0;31m# Don't delay the application, to avoid keeping the input\u001b[0m\u001b[0;34m\u001b[0m\u001b[0;34m\u001b[0m\u001b[0;34m\u001b[0m\u001b[0m\n\u001b[1;32m    571\u001b[0m         \u001b[0;31m# arguments in memory\u001b[0m\u001b[0;34m\u001b[0m\u001b[0;34m\u001b[0m\u001b[0;34m\u001b[0m\u001b[0m\n\u001b[0;32m--> 572\u001b[0;31m         \u001b[0mself\u001b[0m\u001b[0;34m.\u001b[0m\u001b[0mresults\u001b[0m \u001b[0;34m=\u001b[0m \u001b[0mbatch\u001b[0m\u001b[0;34m(\u001b[0m\u001b[0;34m)\u001b[0m\u001b[0;34m\u001b[0m\u001b[0;34m\u001b[0m\u001b[0m\n\u001b[0m\u001b[1;32m    573\u001b[0m \u001b[0;34m\u001b[0m\u001b[0m\n\u001b[1;32m    574\u001b[0m     \u001b[0;32mdef\u001b[0m \u001b[0mget\u001b[0m\u001b[0;34m(\u001b[0m\u001b[0mself\u001b[0m\u001b[0;34m)\u001b[0m\u001b[0;34m:\u001b[0m\u001b[0;34m\u001b[0m\u001b[0;34m\u001b[0m\u001b[0m\n",
            "\u001b[0;32m/usr/local/lib/python3.7/dist-packages/joblib/parallel.py\u001b[0m in \u001b[0;36m__call__\u001b[0;34m(self)\u001b[0m\n\u001b[1;32m    261\u001b[0m         \u001b[0;32mwith\u001b[0m \u001b[0mparallel_backend\u001b[0m\u001b[0;34m(\u001b[0m\u001b[0mself\u001b[0m\u001b[0;34m.\u001b[0m\u001b[0m_backend\u001b[0m\u001b[0;34m,\u001b[0m \u001b[0mn_jobs\u001b[0m\u001b[0;34m=\u001b[0m\u001b[0mself\u001b[0m\u001b[0;34m.\u001b[0m\u001b[0m_n_jobs\u001b[0m\u001b[0;34m)\u001b[0m\u001b[0;34m:\u001b[0m\u001b[0;34m\u001b[0m\u001b[0;34m\u001b[0m\u001b[0m\n\u001b[1;32m    262\u001b[0m             return [func(*args, **kwargs)\n\u001b[0;32m--> 263\u001b[0;31m                     for func, args, kwargs in self.items]\n\u001b[0m\u001b[1;32m    264\u001b[0m \u001b[0;34m\u001b[0m\u001b[0m\n\u001b[1;32m    265\u001b[0m     \u001b[0;32mdef\u001b[0m \u001b[0m__reduce__\u001b[0m\u001b[0;34m(\u001b[0m\u001b[0mself\u001b[0m\u001b[0;34m)\u001b[0m\u001b[0;34m:\u001b[0m\u001b[0;34m\u001b[0m\u001b[0;34m\u001b[0m\u001b[0m\n",
            "\u001b[0;32m/usr/local/lib/python3.7/dist-packages/joblib/parallel.py\u001b[0m in \u001b[0;36m<listcomp>\u001b[0;34m(.0)\u001b[0m\n\u001b[1;32m    261\u001b[0m         \u001b[0;32mwith\u001b[0m \u001b[0mparallel_backend\u001b[0m\u001b[0;34m(\u001b[0m\u001b[0mself\u001b[0m\u001b[0;34m.\u001b[0m\u001b[0m_backend\u001b[0m\u001b[0;34m,\u001b[0m \u001b[0mn_jobs\u001b[0m\u001b[0;34m=\u001b[0m\u001b[0mself\u001b[0m\u001b[0;34m.\u001b[0m\u001b[0m_n_jobs\u001b[0m\u001b[0;34m)\u001b[0m\u001b[0;34m:\u001b[0m\u001b[0;34m\u001b[0m\u001b[0;34m\u001b[0m\u001b[0m\n\u001b[1;32m    262\u001b[0m             return [func(*args, **kwargs)\n\u001b[0;32m--> 263\u001b[0;31m                     for func, args, kwargs in self.items]\n\u001b[0m\u001b[1;32m    264\u001b[0m \u001b[0;34m\u001b[0m\u001b[0m\n\u001b[1;32m    265\u001b[0m     \u001b[0;32mdef\u001b[0m \u001b[0m__reduce__\u001b[0m\u001b[0;34m(\u001b[0m\u001b[0mself\u001b[0m\u001b[0;34m)\u001b[0m\u001b[0;34m:\u001b[0m\u001b[0;34m\u001b[0m\u001b[0;34m\u001b[0m\u001b[0m\n",
            "\u001b[0;32m/usr/local/lib/python3.7/dist-packages/sklearn/model_selection/_validation.py\u001b[0m in \u001b[0;36m_fit_and_score\u001b[0;34m(estimator, X, y, scorer, train, test, verbose, parameters, fit_params, return_train_score, return_parameters, return_n_test_samples, return_times, return_estimator, error_score)\u001b[0m\n\u001b[1;32m    513\u001b[0m             \u001b[0mestimator\u001b[0m\u001b[0;34m.\u001b[0m\u001b[0mfit\u001b[0m\u001b[0;34m(\u001b[0m\u001b[0mX_train\u001b[0m\u001b[0;34m,\u001b[0m \u001b[0;34m**\u001b[0m\u001b[0mfit_params\u001b[0m\u001b[0;34m)\u001b[0m\u001b[0;34m\u001b[0m\u001b[0;34m\u001b[0m\u001b[0m\n\u001b[1;32m    514\u001b[0m         \u001b[0;32melse\u001b[0m\u001b[0;34m:\u001b[0m\u001b[0;34m\u001b[0m\u001b[0;34m\u001b[0m\u001b[0m\n\u001b[0;32m--> 515\u001b[0;31m             \u001b[0mestimator\u001b[0m\u001b[0;34m.\u001b[0m\u001b[0mfit\u001b[0m\u001b[0;34m(\u001b[0m\u001b[0mX_train\u001b[0m\u001b[0;34m,\u001b[0m \u001b[0my_train\u001b[0m\u001b[0;34m,\u001b[0m \u001b[0;34m**\u001b[0m\u001b[0mfit_params\u001b[0m\u001b[0;34m)\u001b[0m\u001b[0;34m\u001b[0m\u001b[0;34m\u001b[0m\u001b[0m\n\u001b[0m\u001b[1;32m    516\u001b[0m \u001b[0;34m\u001b[0m\u001b[0m\n\u001b[1;32m    517\u001b[0m     \u001b[0;32mexcept\u001b[0m \u001b[0mException\u001b[0m \u001b[0;32mas\u001b[0m \u001b[0me\u001b[0m\u001b[0;34m:\u001b[0m\u001b[0;34m\u001b[0m\u001b[0;34m\u001b[0m\u001b[0m\n",
            "\u001b[0;32m/usr/local/lib/python3.7/dist-packages/sklearn/neighbors/_base.py\u001b[0m in \u001b[0;36mfit\u001b[0;34m(self, X, y)\u001b[0m\n\u001b[1;32m   1149\u001b[0m             \u001b[0mself\u001b[0m\u001b[0;34m.\u001b[0m\u001b[0m_y\u001b[0m \u001b[0;34m=\u001b[0m \u001b[0mself\u001b[0m\u001b[0;34m.\u001b[0m\u001b[0m_y\u001b[0m\u001b[0;34m.\u001b[0m\u001b[0mravel\u001b[0m\u001b[0;34m(\u001b[0m\u001b[0;34m)\u001b[0m\u001b[0;34m\u001b[0m\u001b[0;34m\u001b[0m\u001b[0m\n\u001b[1;32m   1150\u001b[0m \u001b[0;34m\u001b[0m\u001b[0m\n\u001b[0;32m-> 1151\u001b[0;31m         \u001b[0;32mreturn\u001b[0m \u001b[0mself\u001b[0m\u001b[0;34m.\u001b[0m\u001b[0m_fit\u001b[0m\u001b[0;34m(\u001b[0m\u001b[0mX\u001b[0m\u001b[0;34m)\u001b[0m\u001b[0;34m\u001b[0m\u001b[0;34m\u001b[0m\u001b[0m\n\u001b[0m\u001b[1;32m   1152\u001b[0m \u001b[0;34m\u001b[0m\u001b[0m\n\u001b[1;32m   1153\u001b[0m \u001b[0;34m\u001b[0m\u001b[0m\n",
            "\u001b[0;32m/usr/local/lib/python3.7/dist-packages/sklearn/neighbors/_base.py\u001b[0m in \u001b[0;36m_fit\u001b[0;34m(self, X)\u001b[0m\n\u001b[1;32m    455\u001b[0m             self._tree = KDTree(X, self.leaf_size,\n\u001b[1;32m    456\u001b[0m                                 \u001b[0mmetric\u001b[0m\u001b[0;34m=\u001b[0m\u001b[0mself\u001b[0m\u001b[0;34m.\u001b[0m\u001b[0meffective_metric_\u001b[0m\u001b[0;34m,\u001b[0m\u001b[0;34m\u001b[0m\u001b[0;34m\u001b[0m\u001b[0m\n\u001b[0;32m--> 457\u001b[0;31m                                 **self.effective_metric_params_)\n\u001b[0m\u001b[1;32m    458\u001b[0m         \u001b[0;32melif\u001b[0m \u001b[0mself\u001b[0m\u001b[0;34m.\u001b[0m\u001b[0m_fit_method\u001b[0m \u001b[0;34m==\u001b[0m \u001b[0;34m'brute'\u001b[0m\u001b[0;34m:\u001b[0m\u001b[0;34m\u001b[0m\u001b[0;34m\u001b[0m\u001b[0m\n\u001b[1;32m    459\u001b[0m             \u001b[0mself\u001b[0m\u001b[0;34m.\u001b[0m\u001b[0m_tree\u001b[0m \u001b[0;34m=\u001b[0m \u001b[0;32mNone\u001b[0m\u001b[0;34m\u001b[0m\u001b[0;34m\u001b[0m\u001b[0m\n",
            "\u001b[0;31mKeyboardInterrupt\u001b[0m: "
          ]
        }
      ]
    },
    {
      "cell_type": "code",
      "metadata": {
        "id": "8u0y4j2A4OmD"
      },
      "source": [
        "highest_score=0.8632508462671158\n",
        "knn =KNeighborsClassifier(n_neighbors=7)\n",
        "for i in range(26, train_poly.shape[1]+1, 25):\n",
        "    # Select i features\n",
        "    select = SelectKBest(score_func=chi2, k=i)\n",
        "    select.fit(train_poly,y)\n",
        "    X_train_poly_selected = select.transform(train_poly)\n",
        "\n",
        "    # Model with i features selected\n",
        "    knn.fit(X_train_poly_selected, y)\n",
        "    scores = cross_val_score(knn, X_train_poly_selected, y, cv=5,scoring=\"roc_auc\")\n",
        "    print('ROC AUC (number of features = %i): %.3f +/- %.3f' % (i, \n",
        "                                                                     np.mean(scores), \n",
        "                                                                     np.std(scores)))\n",
        "    \n",
        "    # Save results if best score\n",
        "    if np.mean(scores) > highest_score:\n",
        "        highest_score = np.mean(scores)\n",
        "        std = np.std(scores)\n",
        "        k_features_highest_score = i\n",
        "    elif np.mean(scores) == highest_score:\n",
        "        if np.std(scores) < std:\n",
        "            highest_score = np.mean(scores)\n",
        "            std = np.std(scores)\n",
        "            k_features_highest_score = i\n",
        "        \n",
        "# Print the number of features\n",
        "print('Number of features when highest score: %i' % k_features_highest_score)"
      ],
      "execution_count": null,
      "outputs": []
    },
    {
      "cell_type": "code",
      "metadata": {
        "id": "1DsF4LR_bFsN"
      },
      "source": [
        "highest_score=0.8679779087523558\n",
        "knn =KNeighborsClassifier(n_neighbors=7)\n",
        "for i in range(136, train_poly.shape[1]+1, 25):\n",
        "    # Select i features\n",
        "    select = SelectKBest(score_func=chi2, k=i)\n",
        "    select.fit(train_poly,y)\n",
        "    X_train_poly_selected = select.transform(train_poly)\n",
        "\n",
        "    # Model with i features selected\n",
        "    knn.fit(X_train_poly_selected, y)\n",
        "    scores = cross_val_score(knn, X_train_poly_selected, y, cv=5,scoring=\"roc_auc\")\n",
        "    print('ROC AUC (number of features = %i): %.3f +/- %.3f' % (i, \n",
        "                                                                     np.mean(scores), \n",
        "                                                                     np.std(scores)))\n",
        "    \n",
        "    # Save results if best score\n",
        "    if np.mean(scores) > highest_score:\n",
        "        highest_score = np.mean(scores)\n",
        "        std = np.std(scores)\n",
        "        k_features_highest_score = i\n",
        "    elif np.mean(scores) == highest_score:\n",
        "        if np.std(scores) < std:\n",
        "            highest_score = np.mean(scores)\n",
        "            std = np.std(scores)\n",
        "            k_features_highest_score = i\n",
        "        \n",
        "# Print the number of features\n",
        "print('Number of features when highest score: %i' % k_features_highest_score)"
      ],
      "execution_count": null,
      "outputs": []
    },
    {
      "cell_type": "markdown",
      "metadata": {
        "id": "UGkuWG8BcuBe"
      },
      "source": [
        "# Trying out more models"
      ]
    },
    {
      "cell_type": "code",
      "metadata": {
        "id": "yx7Zxs07nPou"
      },
      "source": [
        "from sklearn.model_selection import train_test_split\n",
        "X_train, X_test, y_train, y_test=train_test_split(train_poly,y,test_size=0.2,shuffle=True)"
      ],
      "execution_count": 30,
      "outputs": []
    },
    {
      "cell_type": "code",
      "metadata": {
        "id": "ZiAntMLIcxaF"
      },
      "source": [
        "def train_model(model,x_train,y_train,x_val,y_val,print_feature_imp=False,print_cm=True,col_names=None):\n",
        "  from sklearn.metrics import roc_auc_score\n",
        "  import seaborn as sns\n",
        "  import matplotlib.pyplot as plt\n",
        "  import pandas as pd\n",
        "  import numpy as np\n",
        "\n",
        "  print(\"Training on\", model)\n",
        "  model.fit(x_train,y_train)\n",
        "  print(\"Predicting values on validation dataset\")\n",
        "  pred=model.predict(x_val)\n",
        "  if print_feature_imp==True:\n",
        "    fi=pd.DataFrame({'Features':col_names,'Scores':model.feature_importances})\n",
        "    fi = fi.sort_values(by='Feature importance',ascending=False)\n",
        "    plt.figure(figsize=(7,5))\n",
        "    plt.title(\"Feature Importance\",fontsize=14)\n",
        "    s=sns.barplot(data=fi,x=\"Features\",y=\"Scores\")\n",
        "    s.set_xticklabels(s.get_xticklabels(),rotation=90)\n",
        "    plt.show()\n",
        "  if print_cm==True:\n",
        "    cm=pd.crosstab(y_val,pred,\n",
        "                   rownames=[\"Actual\"],\n",
        "                   colnames=[\"Predicted\"])\n",
        "    \n",
        "    fig, (ax1) = plt.subplots(ncols=1, figsize=(5,5))\n",
        "    sns.heatmap(cm,\n",
        "                xticklabels=[\"Not risky\",\"Risky\"],\n",
        "                yticklabels=[\"Not risky\",\"Risky\"],\n",
        "                linewidths=.2,linecolor=\"Darkblue\", cmap=\"Blues\",\n",
        "                annot=True,ax=ax1\n",
        "                )\n",
        "    plt.title(\"Confusion Matrix\",fontsize=14)\n",
        "    plt.show()\n",
        "\n",
        "    print(\"ROC AUC Score on validation dataset: \",roc_auc_score(y_val,pred))\n",
        "\n",
        "  return model"
      ],
      "execution_count": null,
      "outputs": []
    },
    {
      "cell_type": "markdown",
      "metadata": {
        "id": "RbaU9dNmic9U"
      },
      "source": [
        "### KNN hyperparameter tuning "
      ]
    },
    {
      "cell_type": "code",
      "metadata": {
        "id": "ld3fWZhs1YvW"
      },
      "source": [
        "from sklearn.feature_selection import SelectKBest,chi2\n",
        "skb=SelectKBest(chi2,k=46)\n",
        "skb.fit(train_poly,y)\n",
        "x_poly=skb.transform(train_poly)"
      ],
      "execution_count": 78,
      "outputs": []
    },
    {
      "cell_type": "code",
      "metadata": {
        "colab": {
          "base_uri": "https://localhost:8080/"
        },
        "id": "2TVVVguuJ0jv",
        "outputId": "a3a96b24-1204-4d46-9426-e74e73851b76"
      },
      "source": [
        "from imblearn.over_sampling import RandomOverSampler\n",
        "oversample = RandomOverSampler(sampling_strategy=0.3)\n",
        "X_over, y_over = oversample.fit_resample(x_poly,y)"
      ],
      "execution_count": 79,
      "outputs": [
        {
          "output_type": "stream",
          "text": [
            "/usr/local/lib/python3.7/dist-packages/sklearn/utils/deprecation.py:87: FutureWarning: Function safe_indexing is deprecated; safe_indexing is deprecated in version 0.22 and will be removed in version 0.24.\n",
            "  warnings.warn(msg, category=FutureWarning)\n"
          ],
          "name": "stderr"
        }
      ]
    },
    {
      "cell_type": "code",
      "metadata": {
        "id": "3KZR3qgk2Fam"
      },
      "source": [
        "from sklearn.model_selection import train_test_split\n",
        "X_train_knn, X_test_knn, y_train_knn, y_test_knn=train_test_split(X_over,y_over,test_size=0.2,shuffle=True)"
      ],
      "execution_count": 80,
      "outputs": []
    },
    {
      "cell_type": "code",
      "metadata": {
        "colab": {
          "base_uri": "https://localhost:8080/"
        },
        "id": "w4MhDqgVBJdn",
        "outputId": "d6609c08-d2bd-4c85-ed34-8923c4e68d19"
      },
      "source": [
        "print(X_train_knn.shape, X_test_knn.shape, y_train_knn.shape, y_test_knn.shape)"
      ],
      "execution_count": 81,
      "outputs": [
        {
          "output_type": "stream",
          "text": [
            "(229844, 46) (57461, 46) (229844,) (57461,)\n"
          ],
          "name": "stdout"
        }
      ]
    },
    {
      "cell_type": "code",
      "metadata": {
        "id": "gnmIUUc7i8rb"
      },
      "source": [
        "from sklearn.model_selection import GridSearchCV\n",
        "\n",
        "from sklearn.metrics import roc_auc_score,plot_confusion_matrix\n",
        "grid_params={\n",
        "    'n_neighbors':[3,5,11,15,21],\n",
        "    'weights':['uniform','distance'],\n",
        "    'metric':['euclidean','manhattan']\n",
        "}\n",
        "gs=GridSearchCV(KNeighborsClassifier(),grid_params,verbose=2,cv=3,scoring=\"roc_auc\")\n",
        "\n",
        "gs_results=gs.fit(X_train_knn,y_train_knn)"
      ],
      "execution_count": null,
      "outputs": []
    },
    {
      "cell_type": "code",
      "metadata": {
        "colab": {
          "base_uri": "https://localhost:8080/"
        },
        "id": "sHaTXE_8vzfK",
        "outputId": "9cd71197-cce6-47f0-ea7e-2a981eb40eb1"
      },
      "source": [
        "from sklearn.neighbors import KNeighborsClassifier\n",
        "knn=KNeighborsClassifier(n_neighbors=21)\n",
        "knn.fit(X_train_knn,y_train_knn)"
      ],
      "execution_count": 86,
      "outputs": [
        {
          "output_type": "execute_result",
          "data": {
            "text/plain": [
              "KNeighborsClassifier(algorithm='auto', leaf_size=30, metric='minkowski',\n",
              "                     metric_params=None, n_jobs=None, n_neighbors=21, p=2,\n",
              "                     weights='uniform')"
            ]
          },
          "metadata": {
            "tags": []
          },
          "execution_count": 86
        }
      ]
    },
    {
      "cell_type": "code",
      "metadata": {
        "colab": {
          "base_uri": "https://localhost:8080/"
        },
        "id": "r7JpXoMIxWcA",
        "outputId": "f56ce836-7fd0-4cec-97d7-49213a5acc2d"
      },
      "source": [
        "roc_auc_score(knn.predict(X_test_knn),y_test_knn)"
      ],
      "execution_count": 87,
      "outputs": [
        {
          "output_type": "execute_result",
          "data": {
            "text/plain": [
              "0.8160516436314259"
            ]
          },
          "metadata": {
            "tags": []
          },
          "execution_count": 87
        }
      ]
    },
    {
      "cell_type": "markdown",
      "metadata": {
        "id": "P08U4RYAiiSz"
      },
      "source": [
        "### RandomForest "
      ]
    },
    {
      "cell_type": "code",
      "metadata": {
        "id": "zIT6CiRdi1Pv"
      },
      "source": [
        "from sklearn.ensemble import RandomForestClassifier\n",
        "clf = RandomForestClassifier(n_jobs=-1, \n",
        "                             random_state=2021,\n",
        "                             criterion=\"gini\",\n",
        "                             n_estimators=100,\n",
        "                             verbose=True)"
      ],
      "execution_count": null,
      "outputs": []
    },
    {
      "cell_type": "code",
      "metadata": {
        "colab": {
          "base_uri": "https://localhost:8080/"
        },
        "id": "vyy35LRtttex",
        "outputId": "2a3813a5-35c3-4e67-bfd8-d098c93debef"
      },
      "source": [
        "clf.fit(X_train,y_train)"
      ],
      "execution_count": null,
      "outputs": [
        {
          "output_type": "stream",
          "text": [
            "[Parallel(n_jobs=-1)]: Using backend ThreadingBackend with 2 concurrent workers.\n",
            "[Parallel(n_jobs=-1)]: Done  46 tasks      | elapsed:  2.0min\n",
            "[Parallel(n_jobs=-1)]: Done 100 out of 100 | elapsed:  4.4min finished\n"
          ],
          "name": "stderr"
        },
        {
          "output_type": "execute_result",
          "data": {
            "text/plain": [
              "RandomForestClassifier(bootstrap=True, ccp_alpha=0.0, class_weight=None,\n",
              "                       criterion='gini', max_depth=None, max_features='auto',\n",
              "                       max_leaf_nodes=None, max_samples=None,\n",
              "                       min_impurity_decrease=0.0, min_impurity_split=None,\n",
              "                       min_samples_leaf=1, min_samples_split=2,\n",
              "                       min_weight_fraction_leaf=0.0, n_estimators=100,\n",
              "                       n_jobs=-1, oob_score=False, random_state=2021,\n",
              "                       verbose=True, warm_start=False)"
            ]
          },
          "metadata": {
            "tags": []
          },
          "execution_count": 58
        }
      ]
    },
    {
      "cell_type": "code",
      "metadata": {
        "colab": {
          "base_uri": "https://localhost:8080/",
          "height": 422
        },
        "id": "i57Sl9GJvYYO",
        "outputId": "14b97ddd-4633-4123-9cde-3aa6dc5b9a54"
      },
      "source": [
        "from sklearn.metrics import roc_auc_score\n",
        "pred=clf.predict(X_test)\n",
        "cm=pd.crosstab(y_test,pred,\n",
        "                   rownames=[\"Actual\"],\n",
        "                   colnames=[\"Predicted\"])\n",
        "    \n",
        "fig, (ax1) = plt.subplots(ncols=1, figsize=(5,5))\n",
        "sns.heatmap(cm,\n",
        "                xticklabels=[\"Not risky\",\"Risky\"],\n",
        "                yticklabels=[\"Not risky\",\"Risky\"],\n",
        "                linewidths=.2,linecolor=\"Darkblue\", cmap=\"Blues\",\n",
        "                annot=True,ax=ax1\n",
        "                )\n",
        "plt.title(\"Confusion Matrix\",fontsize=14)\n",
        "plt.show()\n",
        "\n",
        "print(\"ROC AUC Score on validation dataset: \",roc_auc_score(y_val,pred))"
      ],
      "execution_count": null,
      "outputs": [
        {
          "output_type": "stream",
          "text": [
            "[Parallel(n_jobs=2)]: Using backend ThreadingBackend with 2 concurrent workers.\n",
            "[Parallel(n_jobs=2)]: Done  46 tasks      | elapsed:    0.8s\n",
            "[Parallel(n_jobs=2)]: Done 100 out of 100 | elapsed:    1.8s finished\n"
          ],
          "name": "stderr"
        },
        {
          "output_type": "display_data",
          "data": {
            "image/png": "[encoded data removed]",
            "text/plain": [
              "<Figure size 360x360 with 2 Axes>"
            ]
          },
          "metadata": {
            "tags": [],
            "needs_background": "light"
          }
        },
        {
          "output_type": "stream",
          "text": [
            "ROC AUC Score on validation dataset:  0.4964243562273504\n"
          ],
          "name": "stdout"
        }
      ]
    },
    {
      "cell_type": "markdown",
      "metadata": {
        "id": "st9mHZ0QiydM"
      },
      "source": [
        "### Adaboost "
      ]
    },
    {
      "cell_type": "code",
      "metadata": {
        "id": "m1vc1OcCi0xZ"
      },
      "source": [
        "from sklearn.ensemble import AdaBoostClassifier\n",
        "clf_ada = AdaBoostClassifier(random_state=0,\n",
        "                         algorithm='SAMME.R',\n",
        "                         learning_rate=0.8,\n",
        "                             n_estimators=100)"
      ],
      "execution_count": null,
      "outputs": []
    },
    {
      "cell_type": "code",
      "metadata": {
        "colab": {
          "base_uri": "https://localhost:8080/"
        },
        "id": "LHX_xlyXxL4E",
        "outputId": "2e3953da-ebc3-49b0-de6f-56e6af63e982"
      },
      "source": [
        "clf_ada.fit(X_train,y_train)"
      ],
      "execution_count": null,
      "outputs": [
        {
          "output_type": "execute_result",
          "data": {
            "text/plain": [
              "AdaBoostClassifier(algorithm='SAMME.R', base_estimator=None, learning_rate=0.8,\n",
              "                   n_estimators=100, random_state=0)"
            ]
          },
          "metadata": {
            "tags": []
          },
          "execution_count": 64
        }
      ]
    },
    {
      "cell_type": "code",
      "metadata": {
        "colab": {
          "base_uri": "https://localhost:8080/",
          "height": 369
        },
        "id": "5izxoir6xTzL",
        "outputId": "661f1c71-79ec-4a27-e5f0-854e2348bb4d"
      },
      "source": [
        "from sklearn.metrics import roc_auc_score\n",
        "pred=clf_ada.predict(X_test)\n",
        "cm=pd.crosstab(y_test,pred,\n",
        "                   rownames=[\"Actual\"],\n",
        "                   colnames=[\"Predicted\"])\n",
        "    \n",
        "fig, (ax1) = plt.subplots(ncols=1, figsize=(5,5))\n",
        "sns.heatmap(cm,\n",
        "                xticklabels=[\"Not risky\",\"Risky\"],\n",
        "                yticklabels=[\"Not risky\",\"Risky\"],\n",
        "                linewidths=.2,linecolor=\"Darkblue\", cmap=\"Blues\",\n",
        "                annot=True,ax=ax1\n",
        "                )\n",
        "plt.title(\"Confusion Matrix\",fontsize=14)\n",
        "plt.show()\n",
        "\n",
        "print(\"ROC AUC Score on validation dataset: \",roc_auc_score(y_val,pred))"
      ],
      "execution_count": null,
      "outputs": [
        {
          "output_type": "display_data",
          "data": {
            "image/png": "[encoded data removed]",
            "text/plain": [
              "<Figure size 360x360 with 2 Axes>"
            ]
          },
          "metadata": {
            "tags": [],
            "needs_background": "light"
          }
        },
        {
          "output_type": "stream",
          "text": [
            "ROC AUC Score on validation dataset:  0.5\n"
          ],
          "name": "stdout"
        }
      ]
    },
    {
      "cell_type": "markdown",
      "metadata": {
        "id": "iCwPXs1Hi2jR"
      },
      "source": [
        "### Catboost "
      ]
    },
    {
      "cell_type": "code",
      "metadata": {
        "id": "9UEGdrDZi57V"
      },
      "source": [
        "from catboost import CatBoostClassifier\n",
        "clf = CatBoostClassifier(iterations=500,\n",
        "                             learning_rate=0.02,\n",
        "                             depth=12,\n",
        "                             eval_metric='AUC',\n",
        "                             random_seed =20,\n",
        "                             bagging_temperature = 0.2,\n",
        "                             od_type='Iter',\n",
        "                             metric_period =50,\n",
        "                             od_wait=100)"
      ],
      "execution_count": null,
      "outputs": []
    },
    {
      "cell_type": "code",
      "metadata": {
        "id": "IGiGZ56KtS0M"
      },
      "source": [
        "clf.fit(X_train,y_train,verbose=True)"
      ],
      "execution_count": null,
      "outputs": []
    },
    {
      "cell_type": "markdown",
      "metadata": {
        "id": "mWTzHm4Eil8q"
      },
      "source": [
        "### XGBboost"
      ]
    },
    {
      "cell_type": "code",
      "metadata": {
        "id": "sTV-2rxHioOd"
      },
      "source": [
        "import xgboost as xgb\n",
        "# Prepare the train and valid datasets\n",
        "dtrain = xgb.DMatrix(x_train,y_train)\n",
        "dvalid = xgb.DMatrix(X_test,y_test)\n",
        "\n",
        "#What to monitor (in this case, **train** and **valid**)\n",
        "watchlist = [(dtrain, 'train'), (dvalid, 'valid')]\n",
        "\n",
        "# Set xgboost parameters\n",
        "params = {}\n",
        "params['objective'] = 'binary:logistic'\n",
        "params['eta'] = 0.039\n",
        "params['silent'] = True\n",
        "params['max_depth'] = 10\n",
        "params['subsample'] = 0.8\n",
        "params['colsample_bytree'] = 0.9\n",
        "params['eval_metric'] = 'auc'\n",
        "params['random_state'] = 0"
      ],
      "execution_count": null,
      "outputs": []
    },
    {
      "cell_type": "code",
      "metadata": {
        "id": "0JYn7adEre6x"
      },
      "source": [
        "model = xgb.train(params, \n",
        "                dtrain, \n",
        "                1000, \n",
        "                watchlist, \n",
        "                early_stopping_rounds=50, \n",
        "                maximize=True, \n",
        "                verbose_eval=50)"
      ],
      "execution_count": null,
      "outputs": []
    },
    {
      "cell_type": "markdown",
      "metadata": {
        "id": "SNeVZkUDion1"
      },
      "source": [
        "### LightGBM"
      ]
    },
    {
      "cell_type": "code",
      "metadata": {
        "id": "qlNafssMitdC"
      },
      "source": [
        "import lightgbm as lgb\n",
        "from lightgbm import LGBMClassifier"
      ],
      "execution_count": 39,
      "outputs": []
    },
    {
      "cell_type": "code",
      "metadata": {
        "id": "7Kx7uOX6sRHV"
      },
      "source": [
        "params = {\n",
        "          'boosting_type': 'gbdt',\n",
        "          'objective': 'binary',\n",
        "          'metric':'auc',\n",
        "          'learning_rate': 0.05,\n",
        "          'num_leaves': 7,  # we should let it be smaller than 2^(max_depth)\n",
        "          'max_depth': 4,  # -1 means no limit\n",
        "          'min_child_samples': 100,  # Minimum number of data need in a child(min_data_in_leaf)\n",
        "          'max_bin': 100,  # Number of bucketed bin for feature values\n",
        "          'subsample': 0.9,  # Subsample ratio of the training instance.\n",
        "          'subsample_freq': 1,  # frequence of subsample, <=0 means no enable\n",
        "          'colsample_bytree': 0.7,  # Subsample ratio of columns when constructing each tree.\n",
        "          'min_child_weight': 0,  # Minimum sum of instance weight(hessian) needed in a child(leaf)\n",
        "          'min_split_gain': 0,  # lambda_l1, lambda_l2 and min_gain_to_split to regularization\n",
        "          'nthread': 8,\n",
        "          'verbose': 1,\n",
        "          'scale_pos_weight':150, # because training data is extremely unbalanced \n",
        "         }\n",
        "\n",
        "# Preapring the dataset \n",
        "dtrain = lgb.Dataset(data=X_train,label=y_train.values,feature_name=poly.get_feature_names())\n",
        "\n",
        "dvalid = lgb.Dataset(data=X_test,label=y_test.values,feature_name=poly.get_feature_names(),reference=dtrain)"
      ],
      "execution_count": 40,
      "outputs": []
    },
    {
      "cell_type": "code",
      "metadata": {
        "id": "KyIZ5GQ2swvR"
      },
      "source": [
        "evals_results = {}\n",
        "\n",
        "model =  LGBMClassifier(\n",
        "                  nthread=-1,\n",
        "                  n_estimators=2000,\n",
        "                  learning_rate=0.01,\n",
        "                  num_leaves=80,\n",
        "                  colsample_bytree=0.98,\n",
        "                  subsample=0.78,\n",
        "                  reg_alpha=0.04,\n",
        "                  reg_lambda=0.073,\n",
        "                  subsample_for_bin=50,\n",
        "                  boosting_type='gbdt',\n",
        "                  is_unbalance=True,\n",
        "                  min_split_gain=0.025,\n",
        "                  min_child_weight=40,\n",
        "                  min_child_samples=510,\n",
        "                  objective='binary',\n",
        "                  metric='auc',\n",
        "                  silent=-1,\n",
        "                  verbose=-1,\n",
        "                  feval=None)"
      ],
      "execution_count": 43,
      "outputs": []
    },
    {
      "cell_type": "code",
      "metadata": {
        "colab": {
          "base_uri": "https://localhost:8080/"
        },
        "id": "y0doR7g8tL4-",
        "outputId": "fe4df11c-b4a7-4b08-eff1-406958ffed9b"
      },
      "source": [
        "model.fit(X_train,y_train.values, eval_set=[(X_train,y_train.values), (X_test,y_test.values)], \n",
        "                eval_metric= 'auc', verbose= 50, early_stopping_rounds= 100)"
      ],
      "execution_count": 44,
      "outputs": [
        {
          "output_type": "stream",
          "text": [
            "Training until validation scores don't improve for 100 rounds.\n",
            "[50]\ttraining's auc: 0.839484\tvalid_1's auc: 0.821857\n",
            "[100]\ttraining's auc: 0.863168\tvalid_1's auc: 0.845152\n",
            "[150]\ttraining's auc: 0.878075\tvalid_1's auc: 0.858954\n",
            "[200]\ttraining's auc: 0.887823\tvalid_1's auc: 0.868159\n",
            "[250]\ttraining's auc: 0.896013\tvalid_1's auc: 0.874858\n",
            "[300]\ttraining's auc: 0.901938\tvalid_1's auc: 0.879654\n",
            "[350]\ttraining's auc: 0.906633\tvalid_1's auc: 0.883169\n",
            "[400]\ttraining's auc: 0.910702\tvalid_1's auc: 0.886051\n",
            "[450]\ttraining's auc: 0.914088\tvalid_1's auc: 0.888581\n",
            "[500]\ttraining's auc: 0.917149\tvalid_1's auc: 0.890519\n",
            "[550]\ttraining's auc: 0.920061\tvalid_1's auc: 0.892589\n",
            "[600]\ttraining's auc: 0.922693\tvalid_1's auc: 0.894369\n",
            "[650]\ttraining's auc: 0.924943\tvalid_1's auc: 0.896349\n",
            "[700]\ttraining's auc: 0.927236\tvalid_1's auc: 0.898075\n",
            "[750]\ttraining's auc: 0.929455\tvalid_1's auc: 0.899802\n",
            "[800]\ttraining's auc: 0.931251\tvalid_1's auc: 0.901214\n",
            "[850]\ttraining's auc: 0.932907\tvalid_1's auc: 0.902519\n",
            "[900]\ttraining's auc: 0.934442\tvalid_1's auc: 0.903597\n",
            "[950]\ttraining's auc: 0.935765\tvalid_1's auc: 0.904557\n",
            "[1000]\ttraining's auc: 0.937112\tvalid_1's auc: 0.905739\n",
            "[1050]\ttraining's auc: 0.938255\tvalid_1's auc: 0.906795\n",
            "[1100]\ttraining's auc: 0.939418\tvalid_1's auc: 0.907894\n",
            "[1150]\ttraining's auc: 0.940478\tvalid_1's auc: 0.908922\n",
            "[1200]\ttraining's auc: 0.941477\tvalid_1's auc: 0.909825\n",
            "[1250]\ttraining's auc: 0.942518\tvalid_1's auc: 0.910834\n",
            "[1300]\ttraining's auc: 0.943458\tvalid_1's auc: 0.911925\n",
            "[1350]\ttraining's auc: 0.944298\tvalid_1's auc: 0.912754\n",
            "[1400]\ttraining's auc: 0.945015\tvalid_1's auc: 0.91345\n",
            "[1450]\ttraining's auc: 0.94566\tvalid_1's auc: 0.914115\n",
            "[1500]\ttraining's auc: 0.946324\tvalid_1's auc: 0.914827\n",
            "[1550]\ttraining's auc: 0.947017\tvalid_1's auc: 0.915557\n",
            "[1600]\ttraining's auc: 0.947615\tvalid_1's auc: 0.916303\n",
            "[1650]\ttraining's auc: 0.948179\tvalid_1's auc: 0.917052\n",
            "[1700]\ttraining's auc: 0.948632\tvalid_1's auc: 0.917656\n",
            "[1750]\ttraining's auc: 0.949069\tvalid_1's auc: 0.918166\n",
            "[1800]\ttraining's auc: 0.949471\tvalid_1's auc: 0.918704\n",
            "[1850]\ttraining's auc: 0.949868\tvalid_1's auc: 0.919255\n",
            "[1900]\ttraining's auc: 0.95024\tvalid_1's auc: 0.919679\n",
            "[1950]\ttraining's auc: 0.950541\tvalid_1's auc: 0.92011\n",
            "[2000]\ttraining's auc: 0.950848\tvalid_1's auc: 0.920523\n",
            "Did not meet early stopping. Best iteration is:\n",
            "[2000]\ttraining's auc: 0.950848\tvalid_1's auc: 0.920523\n"
          ],
          "name": "stdout"
        },
        {
          "output_type": "execute_result",
          "data": {
            "text/plain": [
              "LGBMClassifier(boosting_type='gbdt', class_weight=None, colsample_bytree=0.98,\n",
              "               feval=None, importance_type='split', is_unbalance=True,\n",
              "               learning_rate=0.01, max_depth=-1, metric='auc',\n",
              "               min_child_samples=510, min_child_weight=40, min_split_gain=0.025,\n",
              "               n_estimators=2000, n_jobs=-1, nthread=-1, num_leaves=80,\n",
              "               objective='binary', random_state=None, reg_alpha=0.04,\n",
              "               reg_lambda=0.073, silent=-1, subsample=0.78,\n",
              "               subsample_for_bin=50, subsample_freq=0, verbose=-1)"
            ]
          },
          "metadata": {
            "tags": []
          },
          "execution_count": 44
        }
      ]
    },
    {
      "cell_type": "code",
      "metadata": {
        "colab": {
          "base_uri": "https://localhost:8080/"
        },
        "id": "8vpoYHxvv_GR",
        "outputId": "60ddf681-af24-4d48-fc14-f5b051fcc00b"
      },
      "source": [
        ""
      ],
      "execution_count": 45,
      "outputs": [
        {
          "output_type": "execute_result",
          "data": {
            "text/plain": [
              "array([1, 0, 1, ..., 0, 0, 0])"
            ]
          },
          "metadata": {
            "tags": []
          },
          "execution_count": 45
        }
      ]
    },
    {
      "cell_type": "code",
      "metadata": {
        "colab": {
          "base_uri": "https://localhost:8080/"
        },
        "id": "XTBVAYL76N_Z",
        "outputId": "c2291aa7-d1cd-4013-b948-95be98639e1e"
      },
      "source": [
        "from sklearn.metrics import roc_auc_score\n",
        "roc_auc_score(model.predict(X_test),y_test)"
      ],
      "execution_count": 47,
      "outputs": [
        {
          "output_type": "execute_result",
          "data": {
            "text/plain": [
              "0.7433292498626817"
            ]
          },
          "metadata": {
            "tags": []
          },
          "execution_count": 47
        }
      ]
    },
    {
      "cell_type": "code",
      "metadata": {
        "colab": {
          "base_uri": "https://localhost:8080/"
        },
        "id": "UaZrhzva6VXT",
        "outputId": "550ea0a5-449f-4279-bcc9-3b6c593616cd"
      },
      "source": [
        "from sklearn.metrics import classification_report\n",
        "print(classification_report(model.predict(X_test),y_test))"
      ],
      "execution_count": 49,
      "outputs": [
        {
          "output_type": "stream",
          "text": [
            "              precision    recall  f1-score   support\n",
            "\n",
            "           0       0.89      0.97      0.93     40668\n",
            "           1       0.81      0.52      0.63      9732\n",
            "\n",
            "    accuracy                           0.88     50400\n",
            "   macro avg       0.85      0.74      0.78     50400\n",
            "weighted avg       0.88      0.88      0.87     50400\n",
            "\n"
          ],
          "name": "stdout"
        }
      ]
    },
    {
      "cell_type": "code",
      "metadata": {
        "id": "7PkrlBjY61Ks"
      },
      "source": [
        ""
      ],
      "execution_count": null,
      "outputs": []
    },
    {
      "cell_type": "markdown",
      "metadata": {
        "id": "JJxnxvAc7tCx"
      },
      "source": [
        "# Oversampling"
      ]
    },
    {
      "cell_type": "code",
      "metadata": {
        "colab": {
          "base_uri": "https://localhost:8080/"
        },
        "id": "OEevPRD_7uUH",
        "outputId": "13ca7ecf-3f0a-467e-ad76-f18038b1673f"
      },
      "source": [
        "from imblearn.over_sampling import RandomOverSampler\n",
        "oversample = RandomOverSampler(sampling_strategy=0.75)\n",
        "X_over, y_over = oversample.fit_resample(train_poly,y)"
      ],
      "execution_count": 88,
      "outputs": [
        {
          "output_type": "stream",
          "text": [
            "/usr/local/lib/python3.7/dist-packages/sklearn/utils/deprecation.py:87: FutureWarning: Function safe_indexing is deprecated; safe_indexing is deprecated in version 0.22 and will be removed in version 0.24.\n",
            "  warnings.warn(msg, category=FutureWarning)\n"
          ],
          "name": "stderr"
        }
      ]
    },
    {
      "cell_type": "code",
      "metadata": {
        "id": "LOLb5RSC84Td"
      },
      "source": [
        "from sklearn.model_selection import train_test_split\n",
        "X_train, X_test, y_train, y_test=train_test_split(X_over,y_over,test_size=0.2,shuffle=True)"
      ],
      "execution_count": 89,
      "outputs": []
    },
    {
      "cell_type": "code",
      "metadata": {
        "id": "ED3D28ZB8zdK"
      },
      "source": [
        "import lightgbm as lgb\n",
        "from lightgbm import LGBMClassifier"
      ],
      "execution_count": 90,
      "outputs": []
    },
    {
      "cell_type": "code",
      "metadata": {
        "id": "wT2Dum1C8zdM"
      },
      "source": [
        "params = {\n",
        "          'boosting_type': 'gbdt',\n",
        "          'objective': 'binary',\n",
        "          'metric':'auc',\n",
        "          'learning_rate': 0.05,\n",
        "          'num_leaves': 7,  # we should let it be smaller than 2^(max_depth)\n",
        "          'max_depth': 4,  # -1 means no limit\n",
        "          'min_child_samples': 100,  # Minimum number of data need in a child(min_data_in_leaf)\n",
        "          'max_bin': 100,  # Number of bucketed bin for feature values\n",
        "          'subsample': 0.9,  # Subsample ratio of the training instance.\n",
        "          'subsample_freq': 1,  # frequence of subsample, <=0 means no enable\n",
        "          'colsample_bytree': 0.7,  # Subsample ratio of columns when constructing each tree.\n",
        "          'min_child_weight': 0,  # Minimum sum of instance weight(hessian) needed in a child(leaf)\n",
        "          'min_split_gain': 0,  # lambda_l1, lambda_l2 and min_gain_to_split to regularization\n",
        "          'nthread': 8,\n",
        "          'verbose': 1,\n",
        "          'scale_pos_weight':150, # because training data is extremely unbalanced \n",
        "         }\n",
        "\n",
        "# Preapring the dataset \n",
        "dtrain = lgb.Dataset(data=X_train,label=y_train,feature_name=poly.get_feature_names())\n",
        "\n",
        "dvalid = lgb.Dataset(data=X_test,label=y_test,feature_name=poly.get_feature_names())"
      ],
      "execution_count": 91,
      "outputs": []
    },
    {
      "cell_type": "code",
      "metadata": {
        "id": "gIkW9s1n8zdM"
      },
      "source": [
        "evals_results = {}\n",
        "\n",
        "model =  LGBMClassifier(\n",
        "                  nthread=-1,\n",
        "                  n_estimators=2000,\n",
        "                  learning_rate=0.01,\n",
        "                  num_leaves=80,\n",
        "                  colsample_bytree=0.98,\n",
        "                  subsample=0.78,\n",
        "                  reg_alpha=0.04,\n",
        "                  reg_lambda=0.073,\n",
        "                  subsample_for_bin=50,\n",
        "                  boosting_type='gbdt',\n",
        "                  is_unbalance=False,\n",
        "                  min_split_gain=0.025,\n",
        "                  min_child_weight=40,\n",
        "                  min_child_samples=510,\n",
        "                  objective='binary',\n",
        "                  metric='auc',\n",
        "                  silent=-1,\n",
        "                  verbose=-1,\n",
        "                  feval=None)"
      ],
      "execution_count": 92,
      "outputs": []
    },
    {
      "cell_type": "code",
      "metadata": {
        "colab": {
          "base_uri": "https://localhost:8080/"
        },
        "id": "ii21LFD88zdN",
        "outputId": "65965a55-698f-4efa-9505-06844bd3a7d4"
      },
      "source": [
        "model.fit(X_train,y_train, eval_set=[(X_train,y_train), (X_test,y_test)], \n",
        "                eval_metric= 'auc', verbose= 50, early_stopping_rounds= 100)"
      ],
      "execution_count": 93,
      "outputs": [
        {
          "output_type": "stream",
          "text": [
            "Training until validation scores don't improve for 100 rounds.\n",
            "[50]\ttraining's auc: 0.805853\tvalid_1's auc: 0.799492\n",
            "[100]\ttraining's auc: 0.842348\tvalid_1's auc: 0.833857\n",
            "[150]\ttraining's auc: 0.867597\tvalid_1's auc: 0.858753\n",
            "[200]\ttraining's auc: 0.882723\tvalid_1's auc: 0.873465\n",
            "[250]\ttraining's auc: 0.891815\tvalid_1's auc: 0.882601\n",
            "[300]\ttraining's auc: 0.89886\tvalid_1's auc: 0.889717\n",
            "[350]\ttraining's auc: 0.904014\tvalid_1's auc: 0.894903\n",
            "[400]\ttraining's auc: 0.908437\tvalid_1's auc: 0.899364\n",
            "[450]\ttraining's auc: 0.912222\tvalid_1's auc: 0.903239\n",
            "[500]\ttraining's auc: 0.915538\tvalid_1's auc: 0.906458\n",
            "[550]\ttraining's auc: 0.918522\tvalid_1's auc: 0.909462\n",
            "[600]\ttraining's auc: 0.921168\tvalid_1's auc: 0.912094\n",
            "[650]\ttraining's auc: 0.923701\tvalid_1's auc: 0.914538\n",
            "[700]\ttraining's auc: 0.925632\tvalid_1's auc: 0.916526\n",
            "[750]\ttraining's auc: 0.92721\tvalid_1's auc: 0.918202\n",
            "[800]\ttraining's auc: 0.929081\tvalid_1's auc: 0.920199\n",
            "[850]\ttraining's auc: 0.930722\tvalid_1's auc: 0.92193\n",
            "[900]\ttraining's auc: 0.932372\tvalid_1's auc: 0.923588\n",
            "[950]\ttraining's auc: 0.933869\tvalid_1's auc: 0.925161\n",
            "[1000]\ttraining's auc: 0.935274\tvalid_1's auc: 0.926609\n",
            "[1050]\ttraining's auc: 0.936552\tvalid_1's auc: 0.927911\n",
            "[1100]\ttraining's auc: 0.937801\tvalid_1's auc: 0.92919\n",
            "[1150]\ttraining's auc: 0.93893\tvalid_1's auc: 0.930327\n",
            "[1200]\ttraining's auc: 0.93992\tvalid_1's auc: 0.931418\n",
            "[1250]\ttraining's auc: 0.940838\tvalid_1's auc: 0.932398\n",
            "[1300]\ttraining's auc: 0.941718\tvalid_1's auc: 0.933291\n",
            "[1350]\ttraining's auc: 0.942524\tvalid_1's auc: 0.934112\n",
            "[1400]\ttraining's auc: 0.94327\tvalid_1's auc: 0.934925\n",
            "[1450]\ttraining's auc: 0.943986\tvalid_1's auc: 0.935713\n",
            "[1500]\ttraining's auc: 0.94476\tvalid_1's auc: 0.936589\n",
            "[1550]\ttraining's auc: 0.945502\tvalid_1's auc: 0.937444\n",
            "[1600]\ttraining's auc: 0.946186\tvalid_1's auc: 0.93823\n",
            "[1650]\ttraining's auc: 0.946732\tvalid_1's auc: 0.938841\n",
            "[1700]\ttraining's auc: 0.947268\tvalid_1's auc: 0.939445\n",
            "[1750]\ttraining's auc: 0.947775\tvalid_1's auc: 0.940003\n",
            "[1800]\ttraining's auc: 0.948278\tvalid_1's auc: 0.940591\n",
            "[1850]\ttraining's auc: 0.948723\tvalid_1's auc: 0.941083\n",
            "[1900]\ttraining's auc: 0.949121\tvalid_1's auc: 0.941548\n",
            "[1950]\ttraining's auc: 0.949485\tvalid_1's auc: 0.941962\n",
            "[2000]\ttraining's auc: 0.949877\tvalid_1's auc: 0.942385\n",
            "Did not meet early stopping. Best iteration is:\n",
            "[2000]\ttraining's auc: 0.949877\tvalid_1's auc: 0.942385\n"
          ],
          "name": "stdout"
        },
        {
          "output_type": "execute_result",
          "data": {
            "text/plain": [
              "LGBMClassifier(boosting_type='gbdt', class_weight=None, colsample_bytree=0.98,\n",
              "               feval=None, importance_type='split', is_unbalance=False,\n",
              "               learning_rate=0.01, max_depth=-1, metric='auc',\n",
              "               min_child_samples=510, min_child_weight=40, min_split_gain=0.025,\n",
              "               n_estimators=2000, n_jobs=-1, nthread=-1, num_leaves=80,\n",
              "               objective='binary', random_state=None, reg_alpha=0.04,\n",
              "               reg_lambda=0.073, silent=-1, subsample=0.78,\n",
              "               subsample_for_bin=50, subsample_freq=0, verbose=-1)"
            ]
          },
          "metadata": {
            "tags": []
          },
          "execution_count": 93
        }
      ]
    },
    {
      "cell_type": "code",
      "metadata": {
        "id": "lLyY5MvF9ME5"
      },
      "source": [
        "pred_over=model.predict(X_test)"
      ],
      "execution_count": 94,
      "outputs": []
    },
    {
      "cell_type": "code",
      "metadata": {
        "colab": {
          "base_uri": "https://localhost:8080/"
        },
        "id": "rf1EQmRNHsez",
        "outputId": "ad154097-9296-4ff2-f0a3-46092523a9a4"
      },
      "source": [
        "roc_auc_score(pred_over,y_test)"
      ],
      "execution_count": 95,
      "outputs": [
        {
          "output_type": "execute_result",
          "data": {
            "text/plain": [
              "0.8693678269256158"
            ]
          },
          "metadata": {
            "tags": []
          },
          "execution_count": 95
        }
      ]
    },
    {
      "cell_type": "code",
      "metadata": {
        "id": "Ykad7MpaHwGi"
      },
      "source": [
        "test_knn=skb.transform(test_poly)"
      ],
      "execution_count": 84,
      "outputs": []
    },
    {
      "cell_type": "code",
      "metadata": {
        "colab": {
          "base_uri": "https://localhost:8080/"
        },
        "id": "u5lChUoAQHhE",
        "outputId": "75057812-df9d-4240-b32f-aca8334e4615"
      },
      "source": [
        ""
      ],
      "execution_count": 97,
      "outputs": [
        {
          "output_type": "execute_result",
          "data": {
            "text/plain": [
              "array([0, 0, 0, ..., 0, 0, 1])"
            ]
          },
          "metadata": {
            "tags": []
          },
          "execution_count": 97
        }
      ]
    },
    {
      "cell_type": "code",
      "metadata": {
        "id": "T-qvKZn8aK3R"
      },
      "source": [
        "results=pd.DataFrame()\n",
        "results[\"Id\"]=test_id\n",
        "results[\"risk_flag\"]=model.predict(test_poly)"
      ],
      "execution_count": null,
      "outputs": []
    },
    {
      "cell_type": "code",
      "metadata": {
        "colab": {
          "base_uri": "https://localhost:8080/"
        },
        "id": "Myg-_JrlaaEY",
        "outputId": "a7397abe-307e-441b-8c1c-9109fa1470eb"
      },
      "source": [
        "results.risk_flag.value_counts()"
      ],
      "execution_count": 100,
      "outputs": [
        {
          "output_type": "execute_result",
          "data": {
            "text/plain": [
              "0    23610\n",
              "1     4390\n",
              "Name: risk_flag, dtype: int64"
            ]
          },
          "metadata": {
            "tags": []
          },
          "execution_count": 100
        }
      ]
    },
    {
      "cell_type": "code",
      "metadata": {
        "id": "z56aelm1ai9j"
      },
      "source": [
        "results.to_csv(\"pred_lightgbm_poly_overpnt75.csv\",index=False)"
      ],
      "execution_count": 102,
      "outputs": []
    },
    {
      "cell_type": "code",
      "metadata": {
        "id": "dQqvXZhdalst"
      },
      "source": [
        ""
      ],
      "execution_count": null,
      "outputs": []
    }
  ]
}