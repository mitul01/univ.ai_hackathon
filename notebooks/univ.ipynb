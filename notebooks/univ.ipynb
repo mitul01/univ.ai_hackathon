{
  "nbformat": 4,
  "nbformat_minor": 0,
  "metadata": {
    "colab": {
      "name": "univ.ipynb",
      "provenance": [],
      "collapsed_sections": [],
      "toc_visible": true
    },
    "kernelspec": {
      "display_name": "Python 3",
      "name": "python3"
    },
    "language_info": {
      "name": "python"
    }
  },
  "cells": [
    {
      "cell_type": "code",
      "metadata": {
        "id": "dTCvqVLDQSQv"
      },
      "source": [
        "import pandas as pd \n",
        "import numpy as np"
      ],
      "execution_count": 32,
      "outputs": []
    },
    {
      "cell_type": "code",
      "metadata": {
        "id": "1yFAfep4RZv0"
      },
      "source": [
        "train=pd.read_csv(\"/content/drive/MyDrive/univ.ai/univ_data/Training Data.csv\")"
      ],
      "execution_count": 33,
      "outputs": []
    },
    {
      "cell_type": "code",
      "metadata": {
        "colab": {
          "base_uri": "https://localhost:8080/"
        },
        "id": "ipnu6lPNHQD2",
        "outputId": "02361fa7-f66f-459a-d1b3-c5967f51d9e8"
      },
      "source": [
        "train.risk_flag.value_counts()"
      ],
      "execution_count": 34,
      "outputs": [
        {
          "output_type": "execute_result",
          "data": {
            "text/plain": [
              "0    221004\n",
              "1     30996\n",
              "Name: risk_flag, dtype: int64"
            ]
          },
          "metadata": {
            "tags": []
          },
          "execution_count": 34
        }
      ]
    },
    {
      "cell_type": "code",
      "metadata": {
        "colab": {
          "base_uri": "https://localhost:8080/"
        },
        "id": "9YJupmuwRfKD",
        "outputId": "891903fb-6962-4f45-feb9-4fee18d7aa9c"
      },
      "source": [
        "train.info()"
      ],
      "execution_count": 35,
      "outputs": [
        {
          "output_type": "stream",
          "text": [
            "<class 'pandas.core.frame.DataFrame'>\n",
            "RangeIndex: 252000 entries, 0 to 251999\n",
            "Data columns (total 13 columns):\n",
            " #   Column               Non-Null Count   Dtype \n",
            "---  ------               --------------   ----- \n",
            " 0   Id                   252000 non-null  int64 \n",
            " 1   income               252000 non-null  int64 \n",
            " 2   age                  252000 non-null  int64 \n",
            " 3   experience           252000 non-null  int64 \n",
            " 4   married              252000 non-null  object\n",
            " 5   house_ownership      252000 non-null  object\n",
            " 6   car_ownership        252000 non-null  object\n",
            " 7   profession           252000 non-null  object\n",
            " 8   city                 252000 non-null  object\n",
            " 9   state                252000 non-null  object\n",
            " 10  current_job_years    252000 non-null  int64 \n",
            " 11  current_house_years  252000 non-null  int64 \n",
            " 12  risk_flag            252000 non-null  int64 \n",
            "dtypes: int64(7), object(6)\n",
            "memory usage: 25.0+ MB\n"
          ],
          "name": "stdout"
        }
      ]
    },
    {
      "cell_type": "code",
      "metadata": {
        "colab": {
          "base_uri": "https://localhost:8080/"
        },
        "id": "dMHYO3SrUeE-",
        "outputId": "8b1a5c69-6b66-43ce-c09d-db00d97255b6"
      },
      "source": [
        "train.isnull().sum()"
      ],
      "execution_count": 36,
      "outputs": [
        {
          "output_type": "execute_result",
          "data": {
            "text/plain": [
              "Id                     0\n",
              "income                 0\n",
              "age                    0\n",
              "experience             0\n",
              "married                0\n",
              "house_ownership        0\n",
              "car_ownership          0\n",
              "profession             0\n",
              "city                   0\n",
              "state                  0\n",
              "current_job_years      0\n",
              "current_house_years    0\n",
              "risk_flag              0\n",
              "dtype: int64"
            ]
          },
          "metadata": {
            "tags": []
          },
          "execution_count": 36
        }
      ]
    },
    {
      "cell_type": "code",
      "metadata": {
        "id": "rUW6BpJkTQpy"
      },
      "source": [
        "train[\"age_brackets\"]=pd.qcut(train[\"age\"],q=[0,0.4,0.8,1],precision=0)\n",
        "train[\"income_brackets\"]=pd.qcut(train[\"income\"],q=[0,0.4,0.8,1],precision=0)"
      ],
      "execution_count": 37,
      "outputs": []
    },
    {
      "cell_type": "code",
      "metadata": {
        "id": "fKsbJgtnbg7o"
      },
      "source": [
        "train.drop([\"Id\",\"profession\",\"city\",\"state\",\"age\",\"income\"],axis=1,inplace=True)"
      ],
      "execution_count": 38,
      "outputs": []
    },
    {
      "cell_type": "code",
      "metadata": {
        "id": "i2xLm79TRp3L"
      },
      "source": [
        "from sklearn.preprocessing import OrdinalEncoder,OneHotEncoder\n",
        "from sklearn.pipeline import Pipeline\n",
        "from sklearn.compose import ColumnTransformer\n",
        "from sklearn.preprocessing import StandardScaler"
      ],
      "execution_count": 39,
      "outputs": []
    },
    {
      "cell_type": "code",
      "metadata": {
        "id": "BINVa_xzXYbY"
      },
      "source": [
        "married_transform=Pipeline(steps=[\n",
        "    ('ordinal_encoder',OrdinalEncoder()),\n",
        "    ])\n",
        "\n",
        "car_owner_transform=Pipeline(steps=[\n",
        "    ('ordinal_encoder',OrdinalEncoder()),\n",
        "    ])\n",
        "\n",
        "ohe_transform=Pipeline(steps=[\n",
        "    ('onehot', OneHotEncoder(handle_unknown='ignore')),\n",
        "    ])\n",
        "\n",
        "numeric_features = train.drop(\"risk_flag\",axis=1).select_dtypes(include=['int64', 'float64']).columns\n",
        "\n",
        "scaler_transform = Pipeline(steps=[\n",
        "    ('scaler', StandardScaler())\n",
        "    ])"
      ],
      "execution_count": 40,
      "outputs": []
    },
    {
      "cell_type": "code",
      "metadata": {
        "id": "IymjFtSFWnAb"
      },
      "source": [
        "preprocessor = ColumnTransformer(\n",
        "    transformers=[\n",
        "        ('married_oe',married_transform,[\"married\"]),\n",
        "        ('car_owner_oe',car_owner_transform,[\"car_ownership\"]),\n",
        "        ('house_owner_ohe',ohe_transform,[\"car_ownership\",\"age_brackets\",\"income_brackets\"]),\n",
        "        ('scaler',scaler_transform,numeric_features),\n",
        "    ])"
      ],
      "execution_count": 41,
      "outputs": []
    },
    {
      "cell_type": "code",
      "metadata": {
        "id": "Z4TuY42zH1JJ"
      },
      "source": [
        "X = train.drop('risk_flag', axis=1)\n",
        "y = train['risk_flag']"
      ],
      "execution_count": 42,
      "outputs": []
    },
    {
      "cell_type": "code",
      "metadata": {
        "colab": {
          "base_uri": "https://localhost:8080/"
        },
        "id": "lcaOX1YC1hAN",
        "outputId": "88021307-6de0-4451-b9f0-6a495c6e0524"
      },
      "source": [
        "from imblearn.over_sampling import RandomOverSampler\n",
        "oversample = RandomOverSampler(sampling_strategy='minority')\n",
        "X_over, y_over = oversample.fit_resample(X,y)\n",
        "X_over=pd.DataFrame(X_over,columns=X.columns)"
      ],
      "execution_count": 50,
      "outputs": [
        {
          "output_type": "stream",
          "text": [
            "/usr/local/lib/python3.7/dist-packages/sklearn/utils/deprecation.py:87: FutureWarning: Function safe_indexing is deprecated; safe_indexing is deprecated in version 0.22 and will be removed in version 0.24.\n",
            "  warnings.warn(msg, category=FutureWarning)\n"
          ],
          "name": "stderr"
        }
      ]
    },
    {
      "cell_type": "code",
      "metadata": {
        "id": "072lzE7nUfiB"
      },
      "source": [
        "def create_Xy(X,y,oversample=False,test_size=0.2):\n",
        "  if oversample:\n",
        "    from imblearn.over_sampling import RandomOverSampler\n",
        "    from sklearn.model_selection import train_test_split\n",
        "    X_train, X_test, y_train, y_test = train_test_split(X, y, test_size=test_size,shuffle=True)\n",
        "    oversample = RandomOverSampler(sampling_strategy='minority')\n",
        "    X_over, y_over = oversample.fit_resample(X_train, y_train)\n",
        "    X_over=pd.DataFrame(X_over,columns=X.columns)\n",
        "    return X_over, X_test, y_over,y_test\n",
        "  else:\n",
        "    from sklearn.model_selection import train_test_split\n",
        "    X_train, X_test, y_train, y_test = train_test_split(X,y,test_size=test_size)\n",
        "    return X_train, X_test, y_train, y_test"
      ],
      "execution_count": null,
      "outputs": []
    },
    {
      "cell_type": "code",
      "metadata": {
        "colab": {
          "base_uri": "https://localhost:8080/"
        },
        "id": "oUWJnvV5HsiD",
        "outputId": "d79f08d4-8c08-406f-b010-cbb5ea06b976"
      },
      "source": [
        "X_train, X_test, y_train, y_test=create_Xy(X,y,oversample=True,test_size=0.1)\n",
        "print(X_train.shape,X_test.shape)"
      ],
      "execution_count": null,
      "outputs": [
        {
          "output_type": "stream",
          "text": [
            "/usr/local/lib/python3.7/dist-packages/sklearn/utils/deprecation.py:87: FutureWarning: Function safe_indexing is deprecated; safe_indexing is deprecated in version 0.22 and will be removed in version 0.24.\n",
            "  warnings.warn(msg, category=FutureWarning)\n"
          ],
          "name": "stderr"
        },
        {
          "output_type": "stream",
          "text": [
            "(397964, 9) (25200, 9)\n"
          ],
          "name": "stdout"
        }
      ]
    },
    {
      "cell_type": "code",
      "metadata": {
        "colab": {
          "base_uri": "https://localhost:8080/"
        },
        "id": "9mK8WazYcA7O",
        "outputId": "0abcf1ab-f176-4d24-db0f-59105beb6d5d"
      },
      "source": [
        "from sklearn.metrics import accuracy_score, log_loss\n",
        "from sklearn.neighbors import KNeighborsClassifier\n",
        "from sklearn.svm import SVC\n",
        "from sklearn.tree import DecisionTreeClassifier\n",
        "from sklearn.ensemble import RandomForestClassifier, AdaBoostClassifier, GradientBoostingClassifier\n",
        "from sklearn.discriminant_analysis import LinearDiscriminantAnalysis\n",
        "from sklearn.discriminant_analysis import QuadraticDiscriminantAnalysis\n",
        "from sklearn.model_selection import cross_val_score\n",
        "from sklearn.model_selection import RepeatedStratifiedKFold\n",
        "from sklearn.metrics import roc_auc_score\n",
        "classifiers = [\n",
        "    KNeighborsClassifier(3),\n",
        "    DecisionTreeClassifier(),\n",
        "    RandomForestClassifier(),\n",
        "    AdaBoostClassifier(),\n",
        "    GradientBoostingClassifier()\n",
        "    ]\n",
        "for classifier in classifiers:\n",
        "    pipe = Pipeline(steps=[('preprocessor', preprocessor),\n",
        "                            ('classifier', classifier)])\n",
        "    cv = RepeatedStratifiedKFold(n_splits=10, n_repeats=3, random_state=1)\n",
        "    scores = cross_val_score(pipe, X_train, y_train, scoring='roc_auc', cv=cv, n_jobs=-1)\n",
        "    score = np.mean(scores)\n",
        "    print(classifier)\n",
        "    print('Roc Auc: %.3f' % score)\n",
        "\n",
        "    pipe.fit(X_train,y_train)\n",
        "    y_pred_test=pipe.predict(X_test)\n",
        "    auc_test = roc_auc_score(y_test, y_pred_test)\n",
        "    print('ROC AUC test: %f' % auc_test)"
      ],
      "execution_count": null,
      "outputs": [
        {
          "output_type": "stream",
          "text": [
            "KNeighborsClassifier(algorithm='auto', leaf_size=30, metric='minkowski',\n",
            "                     metric_params=None, n_jobs=None, n_neighbors=3, p=2,\n",
            "                     weights='uniform')\n",
            "Roc Auc: 0.947\n",
            "ROC AUC test: 0.663548\n",
            "DecisionTreeClassifier(ccp_alpha=0.0, class_weight=None, criterion='gini',\n",
            "                       max_depth=None, max_features=None, max_leaf_nodes=None,\n",
            "                       min_impurity_decrease=0.0, min_impurity_split=None,\n",
            "                       min_samples_leaf=1, min_samples_split=2,\n",
            "                       min_weight_fraction_leaf=0.0, presort='deprecated',\n",
            "                       random_state=None, splitter='best')\n",
            "Roc Auc: 0.942\n",
            "ROC AUC test: 0.558993\n"
          ],
          "name": "stdout"
        },
        {
          "output_type": "stream",
          "text": [
            "/usr/local/lib/python3.7/dist-packages/joblib/externals/loky/process_executor.py:691: UserWarning: A worker stopped while some jobs were given to the executor. This can be caused by a too short worker timeout or by a memory leak.\n",
            "  \"timeout or by a memory leak.\", UserWarning\n"
          ],
          "name": "stderr"
        },
        {
          "output_type": "stream",
          "text": [
            "RandomForestClassifier(bootstrap=True, ccp_alpha=0.0, class_weight=None,\n",
            "                       criterion='gini', max_depth=None, max_features='auto',\n",
            "                       max_leaf_nodes=None, max_samples=None,\n",
            "                       min_impurity_decrease=0.0, min_impurity_split=None,\n",
            "                       min_samples_leaf=1, min_samples_split=2,\n",
            "                       min_weight_fraction_leaf=0.0, n_estimators=100,\n",
            "                       n_jobs=None, oob_score=False, random_state=None,\n",
            "                       verbose=0, warm_start=False)\n",
            "Roc Auc: 0.992\n",
            "ROC AUC test: 0.610897\n",
            "AdaBoostClassifier(algorithm='SAMME.R', base_estimator=None, learning_rate=1.0,\n",
            "                   n_estimators=50, random_state=None)\n",
            "Roc Auc: 0.664\n",
            "ROC AUC test: 0.622824\n",
            "GradientBoostingClassifier(ccp_alpha=0.0, criterion='friedman_mse', init=None,\n",
            "                           learning_rate=0.1, loss='deviance', max_depth=3,\n",
            "                           max_features=None, max_leaf_nodes=None,\n",
            "                           min_impurity_decrease=0.0, min_impurity_split=None,\n",
            "                           min_samples_leaf=1, min_samples_split=2,\n",
            "                           min_weight_fraction_leaf=0.0, n_estimators=100,\n",
            "                           n_iter_no_change=None, presort='deprecated',\n",
            "                           random_state=None, subsample=1.0, tol=0.0001,\n",
            "                           validation_fraction=0.1, verbose=0,\n",
            "                           warm_start=False)\n",
            "Roc Auc: 0.711\n",
            "ROC AUC test: 0.660529\n"
          ],
          "name": "stdout"
        }
      ]
    },
    {
      "cell_type": "code",
      "metadata": {
        "colab": {
          "base_uri": "https://localhost:8080/"
        },
        "id": "xjuoGloPNeNr",
        "outputId": "73bc2b79-a7b0-4634-f8e4-9fa9e3614586"
      },
      "source": [
        "train.groupby(by=[\"profession\"])[\"income\"].min().sort_values()"
      ],
      "execution_count": null,
      "outputs": [
        {
          "output_type": "execute_result",
          "data": {
            "text/plain": [
              "profession\n",
              "Engineer                      10310\n",
              "Graphic_Designer              10675\n",
              "Surveyor                      11114\n",
              "Civil_servant                 11430\n",
              "Analyst                       11550\n",
              "Flight_attendant              11695\n",
              "Chef                          11735\n",
              "Technical_writer              11799\n",
              "Architect                     11854\n",
              "Physician                     12608\n",
              "Fashion_Designer              12766\n",
              "Microbiologist                12825\n",
              "Designer                      12841\n",
              "Army_officer                  12902\n",
              "Police_officer                13220\n",
              "Computer_hardware_engineer    13357\n",
              "Comedian                      13429\n",
              "Official                      13629\n",
              "Scientist                     13792\n",
              "Air_traffic_controller        14339\n",
              "Drafter                       14936\n",
              "Chartered_Accountant          15613\n",
              "Technician                    16045\n",
              "Magistrate                    16212\n",
              "Economist                     16890\n",
              "Politician                    16909\n",
              "Technology_specialist         17496\n",
              "Financial_Analyst             17660\n",
              "Hotel_Manager                 17801\n",
              "Surgeon                       18215\n",
              "Industrial_Engineer           19236\n",
              "Biomedical_Engineer           19472\n",
              "Web_designer                  21799\n",
              "Petroleum_Engineer            22921\n",
              "Consultant                    25161\n",
              "Librarian                     25331\n",
              "Civil_engineer                25674\n",
              "Dentist                       26499\n",
              "Chemical_engineer             26926\n",
              "Computer_operator             28070\n",
              "Lawyer                        28993\n",
              "Firefighter                   29380\n",
              "Artist                        31297\n",
              "Statistician                  31705\n",
              "Psychologist                  33224\n",
              "Geologist                     34955\n",
              "Mechanical_engineer           37057\n",
              "Design_Engineer               44761\n",
              "Software_Developer            51528\n",
              "Aviator                       53134\n",
              "Secretary                     72334\n",
              "Name: income, dtype: int64"
            ]
          },
          "metadata": {
            "tags": []
          },
          "execution_count": 48
        }
      ]
    },
    {
      "cell_type": "code",
      "metadata": {
        "colab": {
          "base_uri": "https://localhost:8080/"
        },
        "id": "oAr4hKcOOsom",
        "outputId": "e55baaa9-cc29-450a-82ec-b0ed7aa67d36"
      },
      "source": [
        "train.corr()[\"current_job_years\"]"
      ],
      "execution_count": null,
      "outputs": [
        {
          "output_type": "execute_result",
          "data": {
            "text/plain": [
              "Id                    -0.003250\n",
              "income                 0.007045\n",
              "age                    0.002154\n",
              "experience             0.646098\n",
              "current_job_years      1.000000\n",
              "current_house_years    0.005372\n",
              "risk_flag             -0.016942\n",
              "Name: current_job_years, dtype: float64"
            ]
          },
          "metadata": {
            "tags": []
          },
          "execution_count": 50
        }
      ]
    },
    {
      "cell_type": "code",
      "metadata": {
        "colab": {
          "base_uri": "https://localhost:8080/",
          "height": 405
        },
        "id": "ryncbrDNPUzA",
        "outputId": "879b6b10-91c9-4a4f-9c9d-b808439eeb6d"
      },
      "source": [
        "train[[\"income\",\"current_job_years\",\"risk_flag\"]].sort_values(by=\"income\")"
      ],
      "execution_count": null,
      "outputs": [
        {
          "output_type": "execute_result",
          "data": {
            "text/html": [
              "<div>\n",
              "<style scoped>\n",
              "    .dataframe tbody tr th:only-of-type {\n",
              "        vertical-align: middle;\n",
              "    }\n",
              "\n",
              "    .dataframe tbody tr th {\n",
              "        vertical-align: top;\n",
              "    }\n",
              "\n",
              "    .dataframe thead th {\n",
              "        text-align: right;\n",
              "    }\n",
              "</style>\n",
              "<table border=\"1\" class=\"dataframe\">\n",
              "  <thead>\n",
              "    <tr style=\"text-align: right;\">\n",
              "      <th></th>\n",
              "      <th>income</th>\n",
              "      <th>current_job_years</th>\n",
              "      <th>risk_flag</th>\n",
              "    </tr>\n",
              "  </thead>\n",
              "  <tbody>\n",
              "    <tr>\n",
              "      <th>146007</th>\n",
              "      <td>10310</td>\n",
              "      <td>7</td>\n",
              "      <td>0</td>\n",
              "    </tr>\n",
              "    <tr>\n",
              "      <th>27151</th>\n",
              "      <td>10310</td>\n",
              "      <td>7</td>\n",
              "      <td>0</td>\n",
              "    </tr>\n",
              "    <tr>\n",
              "      <th>81247</th>\n",
              "      <td>10310</td>\n",
              "      <td>7</td>\n",
              "      <td>0</td>\n",
              "    </tr>\n",
              "    <tr>\n",
              "      <th>75837</th>\n",
              "      <td>10310</td>\n",
              "      <td>7</td>\n",
              "      <td>0</td>\n",
              "    </tr>\n",
              "    <tr>\n",
              "      <th>200026</th>\n",
              "      <td>10310</td>\n",
              "      <td>7</td>\n",
              "      <td>0</td>\n",
              "    </tr>\n",
              "    <tr>\n",
              "      <th>...</th>\n",
              "      <td>...</td>\n",
              "      <td>...</td>\n",
              "      <td>...</td>\n",
              "    </tr>\n",
              "    <tr>\n",
              "      <th>140572</th>\n",
              "      <td>9999180</td>\n",
              "      <td>0</td>\n",
              "      <td>0</td>\n",
              "    </tr>\n",
              "    <tr>\n",
              "      <th>108199</th>\n",
              "      <td>9999180</td>\n",
              "      <td>0</td>\n",
              "      <td>0</td>\n",
              "    </tr>\n",
              "    <tr>\n",
              "      <th>172947</th>\n",
              "      <td>9999180</td>\n",
              "      <td>0</td>\n",
              "      <td>0</td>\n",
              "    </tr>\n",
              "    <tr>\n",
              "      <th>225535</th>\n",
              "      <td>9999400</td>\n",
              "      <td>10</td>\n",
              "      <td>0</td>\n",
              "    </tr>\n",
              "    <tr>\n",
              "      <th>229019</th>\n",
              "      <td>9999938</td>\n",
              "      <td>6</td>\n",
              "      <td>0</td>\n",
              "    </tr>\n",
              "  </tbody>\n",
              "</table>\n",
              "<p>252000 rows × 3 columns</p>\n",
              "</div>"
            ],
            "text/plain": [
              "         income  current_job_years  risk_flag\n",
              "146007    10310                  7          0\n",
              "27151     10310                  7          0\n",
              "81247     10310                  7          0\n",
              "75837     10310                  7          0\n",
              "200026    10310                  7          0\n",
              "...         ...                ...        ...\n",
              "140572  9999180                  0          0\n",
              "108199  9999180                  0          0\n",
              "172947  9999180                  0          0\n",
              "225535  9999400                 10          0\n",
              "229019  9999938                  6          0\n",
              "\n",
              "[252000 rows x 3 columns]"
            ]
          },
          "metadata": {
            "tags": []
          },
          "execution_count": 53
        }
      ]
    },
    {
      "cell_type": "code",
      "metadata": {
        "id": "7k2rzHR5Pgsq"
      },
      "source": [
        "train_risk=train[train[\"risk_flag\"]==1]"
      ],
      "execution_count": null,
      "outputs": []
    },
    {
      "cell_type": "code",
      "metadata": {
        "colab": {
          "base_uri": "https://localhost:8080/"
        },
        "id": "A-tUgrnuQXRp",
        "outputId": "cb075700-6679-405b-e422-0b16d3b4d33e"
      },
      "source": [
        "train_risk.age_brackets.value_counts()"
      ],
      "execution_count": null,
      "outputs": [
        {
          "output_type": "execute_result",
          "data": {
            "text/plain": [
              "(20.0, 44.0]    13103\n",
              "(44.0, 68.0]    12468\n",
              "(68.0, 79.0]     5425\n",
              "Name: age_brackets, dtype: int64"
            ]
          },
          "metadata": {
            "tags": []
          },
          "execution_count": 82
        }
      ]
    },
    {
      "cell_type": "code",
      "metadata": {
        "colab": {
          "base_uri": "https://localhost:8080/"
        },
        "id": "aOHSxwdwQ7Ew",
        "outputId": "62655e17-9856-4081-e3f4-9df2fadc1022"
      },
      "source": [
        "train_risk.income_brackets.value_counts()"
      ],
      "execution_count": null,
      "outputs": [
        {
          "output_type": "execute_result",
          "data": {
            "text/plain": [
              "(10309.0, 3983449.0]      12450\n",
              "(3983449.0, 7957694.0]    12161\n",
              "(7957694.0, 9999938.0]     6385\n",
              "Name: income_brackets, dtype: int64"
            ]
          },
          "metadata": {
            "tags": []
          },
          "execution_count": 83
        }
      ]
    },
    {
      "cell_type": "markdown",
      "metadata": {
        "id": "ZI0-zAKeTqYn"
      },
      "source": [
        "# test"
      ]
    },
    {
      "cell_type": "code",
      "metadata": {
        "id": "BJYtb3zvTrpe"
      },
      "source": [
        "test=pd.read_csv(\"/content/drive/MyDrive/univ.ai/univ_data/Test Data.csv\")\n",
        "ID=test[\"id\"]"
      ],
      "execution_count": 57,
      "outputs": []
    },
    {
      "cell_type": "code",
      "metadata": {
        "id": "nryJpTsWT2lp"
      },
      "source": [
        "test[\"age_brackets\"]=pd.qcut(test[\"age\"],q=[0,0.4,0.8,1],precision=0)\n",
        "test[\"income_brackets\"]=pd.qcut(test[\"income\"],q=[0,0.4,0.8,1],precision=0)\n",
        "test.drop([\"id\",\"profession\",\"city\",\"state\",\"age\",\"income\"],axis=1,inplace=True)"
      ],
      "execution_count": 46,
      "outputs": []
    },
    {
      "cell_type": "code",
      "metadata": {
        "colab": {
          "base_uri": "https://localhost:8080/",
          "height": 377
        },
        "id": "c80zTqfS2HCY",
        "outputId": "acafeae9-1142-4dc1-b825-560347061aef"
      },
      "source": [
        "display(X.head(),test.head())"
      ],
      "execution_count": 47,
      "outputs": [
        {
          "output_type": "display_data",
          "data": {
            "text/html": [
              "<div>\n",
              "<style scoped>\n",
              "    .dataframe tbody tr th:only-of-type {\n",
              "        vertical-align: middle;\n",
              "    }\n",
              "\n",
              "    .dataframe tbody tr th {\n",
              "        vertical-align: top;\n",
              "    }\n",
              "\n",
              "    .dataframe thead th {\n",
              "        text-align: right;\n",
              "    }\n",
              "</style>\n",
              "<table border=\"1\" class=\"dataframe\">\n",
              "  <thead>\n",
              "    <tr style=\"text-align: right;\">\n",
              "      <th></th>\n",
              "      <th>experience</th>\n",
              "      <th>married</th>\n",
              "      <th>house_ownership</th>\n",
              "      <th>car_ownership</th>\n",
              "      <th>current_job_years</th>\n",
              "      <th>current_house_years</th>\n",
              "      <th>age_brackets</th>\n",
              "      <th>income_brackets</th>\n",
              "    </tr>\n",
              "  </thead>\n",
              "  <tbody>\n",
              "    <tr>\n",
              "      <th>0</th>\n",
              "      <td>3</td>\n",
              "      <td>single</td>\n",
              "      <td>rented</td>\n",
              "      <td>no</td>\n",
              "      <td>3</td>\n",
              "      <td>13</td>\n",
              "      <td>(20.0, 44.0]</td>\n",
              "      <td>(10309.0, 3983449.0]</td>\n",
              "    </tr>\n",
              "    <tr>\n",
              "      <th>1</th>\n",
              "      <td>10</td>\n",
              "      <td>single</td>\n",
              "      <td>rented</td>\n",
              "      <td>no</td>\n",
              "      <td>9</td>\n",
              "      <td>13</td>\n",
              "      <td>(20.0, 44.0]</td>\n",
              "      <td>(3983449.0, 7957694.0]</td>\n",
              "    </tr>\n",
              "    <tr>\n",
              "      <th>2</th>\n",
              "      <td>4</td>\n",
              "      <td>married</td>\n",
              "      <td>rented</td>\n",
              "      <td>no</td>\n",
              "      <td>4</td>\n",
              "      <td>10</td>\n",
              "      <td>(44.0, 68.0]</td>\n",
              "      <td>(3983449.0, 7957694.0]</td>\n",
              "    </tr>\n",
              "    <tr>\n",
              "      <th>3</th>\n",
              "      <td>2</td>\n",
              "      <td>single</td>\n",
              "      <td>rented</td>\n",
              "      <td>yes</td>\n",
              "      <td>2</td>\n",
              "      <td>12</td>\n",
              "      <td>(20.0, 44.0]</td>\n",
              "      <td>(3983449.0, 7957694.0]</td>\n",
              "    </tr>\n",
              "    <tr>\n",
              "      <th>4</th>\n",
              "      <td>11</td>\n",
              "      <td>single</td>\n",
              "      <td>rented</td>\n",
              "      <td>no</td>\n",
              "      <td>3</td>\n",
              "      <td>14</td>\n",
              "      <td>(44.0, 68.0]</td>\n",
              "      <td>(3983449.0, 7957694.0]</td>\n",
              "    </tr>\n",
              "  </tbody>\n",
              "</table>\n",
              "</div>"
            ],
            "text/plain": [
              "   experience  married  ...  age_brackets         income_brackets\n",
              "0           3   single  ...  (20.0, 44.0]    (10309.0, 3983449.0]\n",
              "1          10   single  ...  (20.0, 44.0]  (3983449.0, 7957694.0]\n",
              "2           4  married  ...  (44.0, 68.0]  (3983449.0, 7957694.0]\n",
              "3           2   single  ...  (20.0, 44.0]  (3983449.0, 7957694.0]\n",
              "4          11   single  ...  (44.0, 68.0]  (3983449.0, 7957694.0]\n",
              "\n",
              "[5 rows x 8 columns]"
            ]
          },
          "metadata": {
            "tags": []
          }
        },
        {
          "output_type": "display_data",
          "data": {
            "text/html": [
              "<div>\n",
              "<style scoped>\n",
              "    .dataframe tbody tr th:only-of-type {\n",
              "        vertical-align: middle;\n",
              "    }\n",
              "\n",
              "    .dataframe tbody tr th {\n",
              "        vertical-align: top;\n",
              "    }\n",
              "\n",
              "    .dataframe thead th {\n",
              "        text-align: right;\n",
              "    }\n",
              "</style>\n",
              "<table border=\"1\" class=\"dataframe\">\n",
              "  <thead>\n",
              "    <tr style=\"text-align: right;\">\n",
              "      <th></th>\n",
              "      <th>experience</th>\n",
              "      <th>married</th>\n",
              "      <th>house_ownership</th>\n",
              "      <th>car_ownership</th>\n",
              "      <th>current_job_years</th>\n",
              "      <th>current_house_years</th>\n",
              "      <th>age_brackets</th>\n",
              "      <th>income_brackets</th>\n",
              "    </tr>\n",
              "  </thead>\n",
              "  <tbody>\n",
              "    <tr>\n",
              "      <th>0</th>\n",
              "      <td>19</td>\n",
              "      <td>single</td>\n",
              "      <td>rented</td>\n",
              "      <td>no</td>\n",
              "      <td>4</td>\n",
              "      <td>13</td>\n",
              "      <td>(44.0, 68.0]</td>\n",
              "      <td>(4040293.0, 7961910.0]</td>\n",
              "    </tr>\n",
              "    <tr>\n",
              "      <th>1</th>\n",
              "      <td>5</td>\n",
              "      <td>single</td>\n",
              "      <td>rented</td>\n",
              "      <td>no</td>\n",
              "      <td>5</td>\n",
              "      <td>10</td>\n",
              "      <td>(20.0, 44.0]</td>\n",
              "      <td>(10309.0, 4040293.0]</td>\n",
              "    </tr>\n",
              "    <tr>\n",
              "      <th>2</th>\n",
              "      <td>12</td>\n",
              "      <td>single</td>\n",
              "      <td>rented</td>\n",
              "      <td>no</td>\n",
              "      <td>9</td>\n",
              "      <td>14</td>\n",
              "      <td>(44.0, 68.0]</td>\n",
              "      <td>(7961910.0, 9999814.0]</td>\n",
              "    </tr>\n",
              "    <tr>\n",
              "      <th>3</th>\n",
              "      <td>9</td>\n",
              "      <td>married</td>\n",
              "      <td>rented</td>\n",
              "      <td>yes</td>\n",
              "      <td>3</td>\n",
              "      <td>12</td>\n",
              "      <td>(44.0, 68.0]</td>\n",
              "      <td>(10309.0, 4040293.0]</td>\n",
              "    </tr>\n",
              "    <tr>\n",
              "      <th>4</th>\n",
              "      <td>18</td>\n",
              "      <td>single</td>\n",
              "      <td>rented</td>\n",
              "      <td>yes</td>\n",
              "      <td>13</td>\n",
              "      <td>11</td>\n",
              "      <td>(20.0, 44.0]</td>\n",
              "      <td>(10309.0, 4040293.0]</td>\n",
              "    </tr>\n",
              "  </tbody>\n",
              "</table>\n",
              "</div>"
            ],
            "text/plain": [
              "   experience  married  ...  age_brackets         income_brackets\n",
              "0          19   single  ...  (44.0, 68.0]  (4040293.0, 7961910.0]\n",
              "1           5   single  ...  (20.0, 44.0]    (10309.0, 4040293.0]\n",
              "2          12   single  ...  (44.0, 68.0]  (7961910.0, 9999814.0]\n",
              "3           9  married  ...  (44.0, 68.0]    (10309.0, 4040293.0]\n",
              "4          18   single  ...  (20.0, 44.0]    (10309.0, 4040293.0]\n",
              "\n",
              "[5 rows x 8 columns]"
            ]
          },
          "metadata": {
            "tags": []
          }
        }
      ]
    },
    {
      "cell_type": "code",
      "metadata": {
        "id": "63jZcrFjVeAI"
      },
      "source": [
        "x_train=preprocessor.fit_transform(X_over)"
      ],
      "execution_count": 51,
      "outputs": []
    },
    {
      "cell_type": "code",
      "metadata": {
        "id": "y3tgLJrlTLYz"
      },
      "source": [
        "x_test=preprocessor.transform(test)"
      ],
      "execution_count": 52,
      "outputs": []
    },
    {
      "cell_type": "code",
      "metadata": {
        "colab": {
          "base_uri": "https://localhost:8080/"
        },
        "id": "fs9vqIuX3rKC",
        "outputId": "06bf5665-c44a-401e-efcf-eed44dcd1cdf"
      },
      "source": [
        "print(x_train.shape,y_over.shape)"
      ],
      "execution_count": 53,
      "outputs": [
        {
          "output_type": "stream",
          "text": [
            "(442008, 13) (442008,)\n"
          ],
          "name": "stdout"
        }
      ]
    },
    {
      "cell_type": "code",
      "metadata": {
        "colab": {
          "base_uri": "https://localhost:8080/"
        },
        "id": "tiCJgC3QUBES",
        "outputId": "ba7f69a6-d942-45cf-933b-8e9dc9731344"
      },
      "source": [
        "from sklearn.ensemble import GradientBoostingClassifier\n",
        "classifier=GradientBoostingClassifier()\n",
        "classifier.fit(x_train,y_over)"
      ],
      "execution_count": 54,
      "outputs": [
        {
          "output_type": "execute_result",
          "data": {
            "text/plain": [
              "GradientBoostingClassifier(ccp_alpha=0.0, criterion='friedman_mse', init=None,\n",
              "                           learning_rate=0.1, loss='deviance', max_depth=3,\n",
              "                           max_features=None, max_leaf_nodes=None,\n",
              "                           min_impurity_decrease=0.0, min_impurity_split=None,\n",
              "                           min_samples_leaf=1, min_samples_split=2,\n",
              "                           min_weight_fraction_leaf=0.0, n_estimators=100,\n",
              "                           n_iter_no_change=None, presort='deprecated',\n",
              "                           random_state=None, subsample=1.0, tol=0.0001,\n",
              "                           validation_fraction=0.1, verbose=0,\n",
              "                           warm_start=False)"
            ]
          },
          "metadata": {
            "tags": []
          },
          "execution_count": 54
        }
      ]
    },
    {
      "cell_type": "code",
      "metadata": {
        "id": "4QPl3ZmPVEZz"
      },
      "source": [
        "predictions=classifier.predict(x_test)"
      ],
      "execution_count": 55,
      "outputs": []
    },
    {
      "cell_type": "code",
      "metadata": {
        "id": "Rh9fyZ-NUU0_"
      },
      "source": [
        "result=pd.DataFrame()\n",
        "result[\"id\"]=ID\n",
        "result[\"risk_flag\"]=predictions"
      ],
      "execution_count": 58,
      "outputs": []
    },
    {
      "cell_type": "code",
      "metadata": {
        "colab": {
          "base_uri": "https://localhost:8080/"
        },
        "id": "5d9_z7yWWVYh",
        "outputId": "68026f21-9e26-4e87-dd6f-cda32f4f1369"
      },
      "source": [
        "result.risk_flag.value_counts()"
      ],
      "execution_count": 59,
      "outputs": [
        {
          "output_type": "execute_result",
          "data": {
            "text/plain": [
              "0    16124\n",
              "1    11876\n",
              "Name: risk_flag, dtype: int64"
            ]
          },
          "metadata": {
            "tags": []
          },
          "execution_count": 59
        }
      ]
    },
    {
      "cell_type": "code",
      "metadata": {
        "id": "uJN9RthMWYGw"
      },
      "source": [
        "result.to_csv(\"prediction.csv\",index=False)"
      ],
      "execution_count": 62,
      "outputs": []
    },
    {
      "cell_type": "code",
      "metadata": {
        "id": "V-RZI2vk4jEl"
      },
      "source": [
        ""
      ],
      "execution_count": null,
      "outputs": []
    }
  ]
}